{
 "cells": [
  {
   "cell_type": "markdown",
   "metadata": {},
   "source": [
    "> ## EX-1-1\n",
    ">\n",
    "> Преподавателю захотелось узнать, кто из учеников присутствовал на всех уроках с начала учебного года. Для каждого урока у него есть список присутствовавших учеников. Фамилии в списках не обязательно идут в алфавитном порядке. Определите фамилии учеников, которые присутствовали на всех уроках.<br>\n",
    "В первой строчке указано число занятий M. Далее идёт M блоков строчек, описывающих списки фамилий. На первой строчке каждого такого блока указано количество фамилий Ni, затем идёт Ni строчек с фамилиями тех, кто был на уроке i."
   ]
  },
  {
   "cell_type": "code",
   "execution_count": 3,
   "metadata": {},
   "outputs": [
    {
     "name": "stdout",
     "output_type": "stream",
     "text": [
      "{'a'}\n"
     ]
    }
   ],
   "source": [
    "m = int(input(\"Количество занятий->\"))\n",
    "a = {}\n",
    "for num_lesson in range(m):\n",
    "    ni = int(input(\"Количество фамилий->\"))\n",
    "    a[num_lesson] = []\n",
    "    for __ in range(ni):\n",
    "        a[num_lesson].append(input(\"Фамилия->\"))\n",
    "\n",
    "sets = [set(l) for l in a.values()]\n",
    "\n",
    "res = set.intersection(*sets)\n",
    "\n",
    "print(res)"
   ]
  },
  {
   "cell_type": "markdown",
   "metadata": {},
   "source": [
    "> ## EX-1-2\n",
    ">\n",
    "> Напишите программу, которая выводит букву с заданным номером из каждой введённой строки. Если некоторые строки слишком короткие, и в них нет символа с заданным номером, то такие строки при выводе нужно просто пропускать. Сперва считывается количество строк, которые будут введены, затем сами строки, а после них - номер буквы, которую необходимо вывести."
   ]
  },
  {
   "cell_type": "code",
   "execution_count": 7,
   "metadata": {},
   "outputs": [
    {
     "name": "stdout",
     "output_type": "stream",
     "text": [
      "q\n",
      "s\n"
     ]
    }
   ],
   "source": [
    "m = int(input(\"Количество строк->\"))\n",
    "strings = []\n",
    "for i in range(m):\n",
    "    strings.append(input(f\"строка №{i+1}->\"))\n",
    "nums = []\n",
    "for i in range(m):\n",
    "    nums.append(int(input(f\"Номер буквы для {i+1} строки->\")))\n",
    "    \n",
    "for num,s in enumerate(strings):\n",
    "    print(s[nums[num] - 1])"
   ]
  },
  {
   "cell_type": "markdown",
   "metadata": {},
   "source": [
    "> ## EX-1-3\n",
    ">\n",
    "> Напишите программу, которая кодирует строку цифр в RLE. RLE означает “run-length encoding” — это способ сокращённой записи последовательности чего угодно (в случае этой задачи — цифр), при котором для подряд идущих группы одинаковых цифр (run) записываются длина этой группы (run length) и сама эта цифра."
   ]
  },
  {
   "cell_type": "code",
   "execution_count": 2,
   "metadata": {},
   "outputs": [
    {
     "name": "stdout",
     "output_type": "stream",
     "text": [
      "113221\n"
     ]
    }
   ],
   "source": [
    "nums = input(\"цифры ->\")\n",
    "count = 1\n",
    "res = ''\n",
    "for i in range(1, len(nums)):\n",
    "    if nums[i] == nums[i - 1]:\n",
    "        count += 1\n",
    "    else:\n",
    "        res += str(count) + nums[i - 1]\n",
    "        count = 1\n",
    "res += str(count) + nums[-1]\n",
    "    \n",
    "print(res)"
   ]
  },
  {
   "cell_type": "markdown",
   "metadata": {},
   "source": [
    "> ## EX-1-4\n",
    ">\n",
    "> Напишите программу, которая генерирует последовательность целых чисел, строющуюся по следующему правилу: начальный член последовательности равен нулю, каждый следующий член последовательности равен количеству совпадений между уже построенным куском последовательности и им же в обратном порядке."
   ]
  },
  {
   "cell_type": "code",
   "execution_count": 2,
   "metadata": {},
   "outputs": [
    {
     "name": "stdout",
     "output_type": "stream",
     "text": [
      "0122333333444444444444444444444444444444444444444444\n"
     ]
    }
   ],
   "source": [
    "def count_list(list1, list2):\n",
    "    count = 0\n",
    "    for item1 in list1:\n",
    "        for item2 in list2:\n",
    "            if item1 == item2:\n",
    "                count += 1\n",
    "    return count\n",
    "\n",
    "\n",
    "\n",
    "n = 0\n",
    "nums = str(0)\n",
    "count = int(input(\"сколько членов последовательности?->\"))\n",
    "for i in range(1,count):\n",
    "    n += 1\n",
    "    nums += str(n) * count_list(list(nums), list(nums[::-1]))\n",
    "print(nums)"
   ]
  },
  {
   "cell_type": "markdown",
   "metadata": {},
   "source": [
    "> ## EX-1-5\n",
    ">\n",
    "> Напишите программу, которая сортирует введенные числа по убыванию. На первой строке вводится натуральное число N — количество чисел. Далее следуют N целых чисел, которые надо будет отсортировать, каждое на отдельной строке."
   ]
  },
  {
   "cell_type": "code",
   "execution_count": 7,
   "metadata": {},
   "outputs": [
    {
     "name": "stdout",
     "output_type": "stream",
     "text": [
      "[3, 2, 1]\n"
     ]
    }
   ],
   "source": [
    "n = int(input(\"Сколько чисел?->\"))\n",
    "l = [int(input()) for _ in range(n)]\n",
    "print(sorted(l,reverse=True))"
   ]
  },
  {
   "cell_type": "markdown",
   "metadata": {},
   "source": [
    "> ## EX-1-6\n",
    ">\n",
    "> Напишите программу, которая считывает строку текста и производит транслитерацию этой строки с сохранением регистра и пунктуации, т.е. заменить русские буквы на английские. Таблицу транслитерации можете найти здесь - http://mishka.travel/blog/index/node/id/1073-transliteraciya-v-zagranpasportah-rossiiskoi-federacii/\n",
    "<br><br>\n",
    "Букву «ё» транслитерируйте как «e», «й» как «и», а «ъ» и «ь» (и их заглавные версии «Ъ» и «Ь») должны исчезнуть из текста. Строчные буквы заменяются на строчные, заглавные заменяются на заглавные. Если заглавная буква превращается при транслитерации в несколько букв, то заглавной должна остаться только первая из них (например, «Ц» → «Tc»).\n",
    "<br><br>\n",
    "Все некириллические символы должны остаться на месте."
   ]
  },
  {
   "cell_type": "code",
   "execution_count": 9,
   "metadata": {},
   "outputs": [],
   "source": [
    "rus_to_latin = {\n",
    "    'А': 'A',\n",
    "    'Б': 'B',\n",
    "    'В': 'V',\n",
    "    'Г': 'G',\n",
    "    'Д': 'D',\n",
    "    'Е': 'E',\n",
    "    'Ё': 'E',\n",
    "    'Ж': 'Zh',\n",
    "    'З': 'Z',\n",
    "    'И': 'I',\n",
    "    'Й': 'I',\n",
    "    'К': 'K',\n",
    "    'Л': 'L',\n",
    "    'М': 'M',\n",
    "    'Н': 'N',\n",
    "    'О': 'O',\n",
    "    'П': 'P',\n",
    "    'Р': 'R',\n",
    "    'С': 'S',\n",
    "    'Т': 'T',\n",
    "    'У': 'U',\n",
    "    'Ф': 'F',\n",
    "    'Х': 'Kh',\n",
    "    'Ц': 'Tc',\n",
    "    'Ч': 'Ch',\n",
    "    'Ш': 'Sh',\n",
    "    'Щ': 'Shch',\n",
    "    'Ы': 'Y',\n",
    "    'Э': 'E',\n",
    "    'Ю': 'Iu',\n",
    "    'Я': 'Ia',\n",
    "    'Ъ':\"\",\n",
    "    'Ь':\"\",\n",
    "    'ъ':\"\",\n",
    "    'ь':\"\",\n",
    "    'а': 'a',\n",
    "    'б': 'b',\n",
    "    'в': 'v',\n",
    "    'г': 'g',\n",
    "    'д': 'd',\n",
    "    'е': 'e',\n",
    "    'ё': 'e',\n",
    "    'ж': 'zh',\n",
    "    'з': 'z',\n",
    "    'и': 'i',\n",
    "    'й': 'i',\n",
    "    'к': 'k',\n",
    "    'л': 'l',\n",
    "    'м': 'm',\n",
    "    'н': 'n',\n",
    "    'о': 'o',\n",
    "    'п': 'p',\n",
    "    'р': 'r',\n",
    "    'с': 's',\n",
    "    'т': 't',\n",
    "    'у': 'u',\n",
    "    'ф': 'f',\n",
    "    'х': 'kh',\n",
    "    'ц': 'tc',\n",
    "    'ч': 'ch',\n",
    "    'ш': 'sh',\n",
    "    'щ': 'shch',\n",
    "    'ы': 'y',\n",
    "    'э': 'e',\n",
    "    'ю': 'iu',\n",
    "    'я': 'ia'\n",
    "}"
   ]
  },
  {
   "cell_type": "code",
   "execution_count": 13,
   "metadata": {},
   "outputs": [
    {
     "name": "stdout",
     "output_type": "stream",
     "text": [
      "kak dela?\n"
     ]
    }
   ],
   "source": [
    "string = input(\"->\")\n",
    "for sym in rus_to_latin.keys():\n",
    "    string = string.replace(sym,rus_to_latin[sym])\n",
    "print(string)"
   ]
  },
  {
   "cell_type": "markdown",
   "metadata": {},
   "source": [
    "> ## EX-1-7\n",
    ">\n",
    "> Дан текст на русском языке. Посчитайте, сколько раз встречается в тексте каждое слово и выведите их  упорядоченными по убыванию количества их попаданий в текст. <br><br>\n",
    "Слово — это последовательность русских букв. Кроме слов, в тексте могут присутствовать пробелы и знаки препинания («,», «.», «!», «?», «:» и «;»). Других символов в тексте нет.\n",
    "Слова необходимо сравнивать с точностью до регистра. То есть «Привет» и «привет» — это одно и то же слово, а вот «рыба», «рыбы» и «рыбу» — три разных.<br><br>\n",
    "Программа сперва считывает количество строк текста N, а затем сами N-cтрок."
   ]
  },
  {
   "cell_type": "markdown",
   "metadata": {},
   "source": [
    "- Привет, как твои дела?\n",
    "- привет, да нормально, как у тебя?\n",
    "- да тоже нормально"
   ]
  },
  {
   "cell_type": "code",
   "execution_count": 20,
   "metadata": {},
   "outputs": [
    {
     "name": "stdout",
     "output_type": "stream",
     "text": [
      "{'привет': 2, 'как': 2, 'да': 2, 'нормально': 2, 'твои': 1, 'дела': 1, 'у': 1, 'тебя': 1, 'тоже': 1}\n"
     ]
    }
   ],
   "source": [
    "def clear(string:str):\n",
    "    return string.replace(\",\",\"\").replace(\".\",\"\").replace(\"!\",\"\").replace(\"?\",\"\").replace(\":\",\"\").replace(\";\",\"\")\n",
    "\n",
    "n = int(input(\"количество строк->\"))\n",
    "strings = [input() for _ in range(n)]\n",
    "strings = list(map(str.lower,strings))\n",
    "strings = list(map(clear,strings))\n",
    "strings = \" \".join(strings).split()\n",
    "\n",
    "res = {}\n",
    "for st in strings:\n",
    "    try:\n",
    "        res[st] += 1\n",
    "    except:\n",
    "        res[st] = 1\n",
    "\n",
    "res = dict(sorted(res.items(), key=lambda item: item[1], reverse=True))\n",
    "\n",
    "print(res)"
   ]
  },
  {
   "cell_type": "markdown",
   "metadata": {},
   "source": [
    "> ## EX-2-1\n",
    ">\n",
    "> Напишите функцию triangle(a, b, c), которая принимает на вход три длины отрезков и определяет, можно ли из этих отрезков составить треугольник. Ваша функция должна печатать «Это треугольник», если составить треугольник можно, и «Это не треугольник», если нельзя."
   ]
  },
  {
   "cell_type": "code",
   "execution_count": 21,
   "metadata": {},
   "outputs": [
    {
     "name": "stdout",
     "output_type": "stream",
     "text": [
      "Это треугольник\n",
      "Это не треугольник\n"
     ]
    }
   ],
   "source": [
    "def triangel(a,b,c):\n",
    "    if a + b > c and a + c > b and b + c > a:\n",
    "        print(\"Это треугольник\")\n",
    "    else:\n",
    "        print(\"Это не треугольник\")   \n",
    "\n",
    "triangel(3,3,3)\n",
    "triangel(1,1,100)"
   ]
  },
  {
   "cell_type": "markdown",
   "metadata": {},
   "source": [
    "> ## EX-2-2\n",
    ">\n",
    "> Напишите функцию print_average(arr), которая принимает список целых чисел в качестве аргумента и печатает среднее значение элементов этого списка. В случае, когда список пустой, функция должна напечатать ноль."
   ]
  },
  {
   "cell_type": "code",
   "execution_count": 22,
   "metadata": {},
   "outputs": [
    {
     "name": "stdout",
     "output_type": "stream",
     "text": [
      "0\n",
      "2.0\n"
     ]
    }
   ],
   "source": [
    "def print_average(arr:list):\n",
    "    print(sum(arr) / len(arr)) if arr else print(0)\n",
    "    \n",
    "print_average([])\n",
    "print_average([1,2,2,3])"
   ]
  },
  {
   "cell_type": "markdown",
   "metadata": {},
   "source": [
    "> ## EX-2-3\n",
    ">\n",
    "> Вам необходимо написать функцию golden_ratio(i), которая получает число i как аргумент и печатает i-ое последовательное приближение золотого сечения. i-ое приближения золотого сечения вычисляется как отношение (i+1)-го числа Фибоначчи к i-му.\n",
    "> <br><br>\n",
    "> Числами Фибоначчи называется последовательность, первые два элемента которой (нумерация с единицы) равны 1, а каждое из последующих чисел равно сумме двух предыдущих. Первые члены последовательности Фибоначчи - 1, 1, 2, 3, 5, 8, 13, ...\n",
    "> <br><br>\n",
    "> Таким образом первое приближение золотого сечения — 1/1, второе — 2/1, третье — 3/2, четвертое — 5/3 и т. д."
   ]
  },
  {
   "cell_type": "code",
   "execution_count": 26,
   "metadata": {},
   "outputs": [
    {
     "name": "stdout",
     "output_type": "stream",
     "text": [
      "1/1 = 1\n",
      "2/1 = 2.0\n",
      "3/2 = 1.5\n",
      "5/3 = 1.667\n"
     ]
    }
   ],
   "source": [
    "def fibonaci(n):\n",
    "    fib = [1, 1]\n",
    "    for i in range(2, n + 1):\n",
    "        fib.append(fib[i - 1] + fib[i - 2])\n",
    "    return fib[n]\n",
    "\n",
    "def golden_ratio(i):\n",
    "    if i <= 0:\n",
    "        print(\"i должно быть больше 0\")\n",
    "        return\n",
    "\n",
    "    if i == 1:\n",
    "        print(\"1/1 = 1\")\n",
    "        return\n",
    "\n",
    "    fibonaci_i = fibonaci(i - 1)\n",
    "    fibonaci_i1 = fibonaci(i)\n",
    "\n",
    "    print(f\"{fibonaci_i1}/{fibonaci_i} = {round(fibonaci_i1 / fibonaci_i,3)}\")\n",
    "\n",
    "\n",
    "golden_ratio(1)\n",
    "golden_ratio(2)\n",
    "golden_ratio(3)\n",
    "golden_ratio(4)"
   ]
  },
  {
   "cell_type": "markdown",
   "metadata": {},
   "source": [
    "> ## EX-2-4\n",
    ">\n",
    "> Правильной скобочной последовательностью называется строка, состоящая только из символов «скобки» (открывающих \"(\" и закрывающих \")\"), где каждой закрывающей скобке найдётся соответствующая открывающая. Например, () и (()()) — правильные последовательности, а (()(() или )( — нет.\n",
    "> <br><br>\n",
    ">Напишите функцию bracket_check(test_string), которая проверяет, является ли поступившая на вход строка правильной скобочной последовательностью. Если да, она должна печатать YES, в противном случае — NO. Обратите внимание, что пустая строка также является правильной скобочной последовательностью."
   ]
  },
  {
   "cell_type": "code",
   "execution_count": 28,
   "metadata": {},
   "outputs": [
    {
     "name": "stdout",
     "output_type": "stream",
     "text": [
      "YES\n",
      "NO\n",
      "NO\n"
     ]
    }
   ],
   "source": [
    "def bracket_check(test_string):\n",
    "    count = 0\n",
    "\n",
    "    for char in test_string:\n",
    "        if char == '(':\n",
    "            count += 1\n",
    "        elif char == ')':\n",
    "            count -= 1\n",
    "            if count < 0:\n",
    "                print(\"NO\")\n",
    "                return\n",
    "    \n",
    "    if count == 0:\n",
    "        print(\"YES\")\n",
    "    else:\n",
    "        print(\"NO\")\n",
    "\n",
    "bracket_check(\"(()())\")\n",
    "bracket_check(\"(()(()\")\n",
    "bracket_check(\")(\")"
   ]
  },
  {
   "cell_type": "markdown",
   "metadata": {},
   "source": [
    "> ## EX-2-5\n",
    ">\n",
    "> Напишите функцию print_long_words(text), которая будет искать в переданной строке слова с четырьмя и более слогами (гласными буквами). Строка передается параметром функции. Словом следует считать набор букв, ограниченный любыми символами, не являющимися буквами (либо началом/концом строки).\n",
    "> <br><br>\n",
    ">Найденные слова должны быть выведены на экран в порядке, в котором они встретились. Каждое слово должно идти на своей строке и печататься маленькими буквами.\n",
    "> <br><br>\n",
    ">В русском языке гласными являются буквы: а, о, э, и, у, ы, е, ё, ю, я. В английском: a, e, i, o, u, y.\n",
    "> <br><br>\n",
    ">Как и в прочих заданиях этого урока, в вашем решении функция должна быть определена, но не должна вызываться."
   ]
  },
  {
   "cell_type": "code",
   "execution_count": 35,
   "metadata": {},
   "outputs": [],
   "source": []
  },
  {
   "cell_type": "markdown",
   "metadata": {},
   "source": [
    "> ## EX-2-6\n",
    ">\n",
    "> Напишите функцию same_by(characteristic, objects), которая проверяет, все ли объекты имеют одинаковое значение некоторой характеристики, и возвращает True, если это так. Если значение характеристики для разных объектов отличается – то False. Для пустого набора объектов, функция должна возвращать True. Аргумент characteristic – это функция, которая принимает объект и вычисляет его характеристику."
   ]
  },
  {
   "cell_type": "code",
   "execution_count": null,
   "metadata": {},
   "outputs": [],
   "source": [
    "\"ничего не понял в задании вообще\""
   ]
  },
  {
   "cell_type": "markdown",
   "metadata": {},
   "source": [
    "> ## EX-2-7\n",
    ">\n",
    "> Напишите функцию, которая создает, заполняет и возвращает матрицу заданного размера. При этом (в зависимости от переданных аргументов) она должна вести себя так:\n",
    "<br><br>- matrix() — создает матрицу 1×1, в которой единственное число равно нулю.\n",
    "<br>- matrix(n) — создает матрицу n×n, заполненную нулями.\n",
    "<br>- matrix(n, m) — создает матрицу из n cтрок и m столбцов, заполненную нулями.\n",
    "<br>- matrix(n, m, a) — создает матрицу из n строк и m столбцов, в которой каждый элемент равен a."
   ]
  },
  {
   "cell_type": "code",
   "execution_count": 31,
   "metadata": {},
   "outputs": [
    {
     "name": "stdout",
     "output_type": "stream",
     "text": [
      "[[0]]\n",
      "[[0, 0], [0, 0]]\n",
      "[[0, 0, 0], [0, 0, 0]]\n",
      "[[4, 4, 4], [4, 4, 4]]\n"
     ]
    }
   ],
   "source": [
    "def matrix(n = 1,m = -1,a = 0):\n",
    "    if m == -1: m = n\n",
    "    return [[a for _ in range(m)] for __ in range(n)]\n",
    "    \n",
    "print(matrix())\n",
    "print(matrix(2))\n",
    "print(matrix(2,3))\n",
    "print(matrix(2,3,4))"
   ]
  }
 ],
 "metadata": {
  "kernelspec": {
   "display_name": "Python 3",
   "language": "python",
   "name": "python3"
  },
  "language_info": {
   "codemirror_mode": {
    "name": "ipython",
    "version": 3
   },
   "file_extension": ".py",
   "mimetype": "text/x-python",
   "name": "python",
   "nbconvert_exporter": "python",
   "pygments_lexer": "ipython3",
   "version": "3.10.10"
  }
 },
 "nbformat": 4,
 "nbformat_minor": 4
}
