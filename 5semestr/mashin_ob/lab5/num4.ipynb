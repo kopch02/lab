{
 "cells": [
  {
   "cell_type": "markdown",
   "metadata": {},
   "source": [
    "1. Используя ресурс kaggle (https://www.kaggle.com/), выберите один из наборов\n",
    "данных. Загрузите этот набор и выведите первые 10 записей на экран."
   ]
  },
  {
   "cell_type": "code",
   "execution_count": 4,
   "metadata": {},
   "outputs": [
    {
     "data": {
      "text/html": [
       "<div>\n",
       "<style scoped>\n",
       "    .dataframe tbody tr th:only-of-type {\n",
       "        vertical-align: middle;\n",
       "    }\n",
       "\n",
       "    .dataframe tbody tr th {\n",
       "        vertical-align: top;\n",
       "    }\n",
       "\n",
       "    .dataframe thead th {\n",
       "        text-align: right;\n",
       "    }\n",
       "</style>\n",
       "<table border=\"1\" class=\"dataframe\">\n",
       "  <thead>\n",
       "    <tr style=\"text-align: right;\">\n",
       "      <th></th>\n",
       "      <th>#</th>\n",
       "      <th>Country (or dependency)</th>\n",
       "      <th>Population (2022)</th>\n",
       "      <th>Yearly change</th>\n",
       "      <th>Net change</th>\n",
       "      <th>Density (P/Km²)</th>\n",
       "      <th>Land Area (Km²)</th>\n",
       "      <th>Migrants (net)</th>\n",
       "      <th>Fert. Rate</th>\n",
       "      <th>Med.Age</th>\n",
       "      <th>Urban Pop %</th>\n",
       "      <th>World Share</th>\n",
       "    </tr>\n",
       "  </thead>\n",
       "  <tbody>\n",
       "    <tr>\n",
       "      <th>0</th>\n",
       "      <td>1</td>\n",
       "      <td>China</td>\n",
       "      <td>1,439,323,776</td>\n",
       "      <td>0.39%</td>\n",
       "      <td>5,540,090</td>\n",
       "      <td>153</td>\n",
       "      <td>9,388,211</td>\n",
       "      <td>-348,399</td>\n",
       "      <td>1.7</td>\n",
       "      <td>38</td>\n",
       "      <td>61%</td>\n",
       "      <td>18.47%</td>\n",
       "    </tr>\n",
       "    <tr>\n",
       "      <th>1</th>\n",
       "      <td>2</td>\n",
       "      <td>India</td>\n",
       "      <td>1,380,004,385</td>\n",
       "      <td>0.99%</td>\n",
       "      <td>13,586,631</td>\n",
       "      <td>464</td>\n",
       "      <td>2,973,190</td>\n",
       "      <td>-532,687</td>\n",
       "      <td>2.2</td>\n",
       "      <td>28</td>\n",
       "      <td>35%</td>\n",
       "      <td>17.70%</td>\n",
       "    </tr>\n",
       "    <tr>\n",
       "      <th>2</th>\n",
       "      <td>3</td>\n",
       "      <td>United States</td>\n",
       "      <td>331,002,651</td>\n",
       "      <td>0.59%</td>\n",
       "      <td>1,937,734</td>\n",
       "      <td>36</td>\n",
       "      <td>9,147,420</td>\n",
       "      <td>954,806</td>\n",
       "      <td>1.8</td>\n",
       "      <td>38</td>\n",
       "      <td>83%</td>\n",
       "      <td>4.25%</td>\n",
       "    </tr>\n",
       "    <tr>\n",
       "      <th>3</th>\n",
       "      <td>4</td>\n",
       "      <td>Indonesia</td>\n",
       "      <td>273,523,615</td>\n",
       "      <td>1.07%</td>\n",
       "      <td>2,898,047</td>\n",
       "      <td>151</td>\n",
       "      <td>1,811,570</td>\n",
       "      <td>-98,955</td>\n",
       "      <td>2.3</td>\n",
       "      <td>30</td>\n",
       "      <td>56%</td>\n",
       "      <td>3.51%</td>\n",
       "    </tr>\n",
       "    <tr>\n",
       "      <th>4</th>\n",
       "      <td>5</td>\n",
       "      <td>Pakistan</td>\n",
       "      <td>220,892,340</td>\n",
       "      <td>2.00%</td>\n",
       "      <td>4,327,022</td>\n",
       "      <td>287</td>\n",
       "      <td>770,880</td>\n",
       "      <td>-233,379</td>\n",
       "      <td>3.6</td>\n",
       "      <td>23</td>\n",
       "      <td>35%</td>\n",
       "      <td>2.83%</td>\n",
       "    </tr>\n",
       "  </tbody>\n",
       "</table>\n",
       "</div>"
      ],
      "text/plain": [
       "   # Country (or dependency) Population (2022) Yearly change  Net change  \\\n",
       "0  1                   China     1,439,323,776         0.39%   5,540,090   \n",
       "1  2                   India     1,380,004,385         0.99%  13,586,631   \n",
       "2  3           United States       331,002,651         0.59%   1,937,734   \n",
       "3  4               Indonesia       273,523,615         1.07%   2,898,047   \n",
       "4  5                Pakistan       220,892,340         2.00%   4,327,022   \n",
       "\n",
       "  Density (P/Km²) Land Area (Km²) Migrants (net) Fert. Rate Med.Age  \\\n",
       "0             153       9,388,211       -348,399        1.7      38   \n",
       "1             464       2,973,190       -532,687        2.2      28   \n",
       "2              36       9,147,420        954,806        1.8      38   \n",
       "3             151       1,811,570        -98,955        2.3      30   \n",
       "4             287         770,880       -233,379        3.6      23   \n",
       "\n",
       "  Urban Pop % World Share  \n",
       "0         61%      18.47%  \n",
       "1         35%      17.70%  \n",
       "2         83%       4.25%  \n",
       "3         56%       3.51%  \n",
       "4         35%       2.83%  "
      ]
     },
     "execution_count": 4,
     "metadata": {},
     "output_type": "execute_result"
    }
   ],
   "source": [
    "import pandas as pd\n",
    "\n",
    "df = pd.read_csv('data.csv')\n",
    "df.head()"
   ]
  },
  {
   "cell_type": "markdown",
   "metadata": {},
   "source": [
    "2. Опишите данные набора: какие признаки в нем присутствуют, что они означают,\n",
    "какой у них тип данных, какие значения могут принимать"
   ]
  },
  {
   "cell_type": "markdown",
   "metadata": {},
   "source": [
    "дата сет показывает популяцию населения в странах, именение популяции за год, плотность населенеия, количество мигрантов уровень рождаемости"
   ]
  },
  {
   "cell_type": "code",
   "execution_count": 2,
   "metadata": {},
   "outputs": [
    {
     "name": "stdout",
     "output_type": "stream",
     "text": [
      "<class 'pandas.core.frame.DataFrame'>\n",
      "RangeIndex: 235 entries, 0 to 234\n",
      "Data columns (total 12 columns):\n",
      " #   Column                   Non-Null Count  Dtype \n",
      "---  ------                   --------------  ----- \n",
      " 0   #                        235 non-null    int64 \n",
      " 1   Country (or dependency)  235 non-null    object\n",
      " 2   Population (2022)        235 non-null    object\n",
      " 3   Yearly change            235 non-null    object\n",
      " 4   Net change               235 non-null    object\n",
      " 5   Density (P/Km²)          235 non-null    object\n",
      " 6   Land Area (Km²)          235 non-null    object\n",
      " 7   Migrants (net)           201 non-null    object\n",
      " 8   Fert. Rate               235 non-null    object\n",
      " 9   Med.Age                  235 non-null    object\n",
      " 10  Urban Pop %              235 non-null    object\n",
      " 11  World Share              235 non-null    object\n",
      "dtypes: int64(1), object(11)\n",
      "memory usage: 22.2+ KB\n"
     ]
    }
   ],
   "source": [
    "df.info()"
   ]
  },
  {
   "cell_type": "markdown",
   "metadata": {},
   "source": [
    "3. Укажите какие признаки являются количественными, качественными порядковыми\n",
    "и качественными номинальными"
   ]
  },
  {
   "cell_type": "markdown",
   "metadata": {},
   "source": [
    "количественные - всё кроме country\n",
    "\n",
    "качественный порядковые - \n",
    "\n",
    "качественные номинальные - country"
   ]
  }
 ],
 "metadata": {
  "kernelspec": {
   "display_name": "Python 3.10.4 64-bit",
   "language": "python",
   "name": "python3"
  },
  "language_info": {
   "codemirror_mode": {
    "name": "ipython",
    "version": 3
   },
   "file_extension": ".py",
   "mimetype": "text/x-python",
   "name": "python",
   "nbconvert_exporter": "python",
   "pygments_lexer": "ipython3",
   "version": "3.10.4"
  },
  "orig_nbformat": 4,
  "vscode": {
   "interpreter": {
    "hash": "5a36fc6bded80c7dba15ba6e493e0fae11d31fb080977968d3829f197de4bb46"
   }
  }
 },
 "nbformat": 4,
 "nbformat_minor": 2
}
