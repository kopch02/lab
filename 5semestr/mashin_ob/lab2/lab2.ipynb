{
 "cells": [
  {
   "cell_type": "code",
   "execution_count": 2,
   "metadata": {},
   "outputs": [],
   "source": [
    "import numpy as np"
   ]
  },
  {
   "cell_type": "markdown",
   "metadata": {},
   "source": [
    "1. Массив со значениями 1, 7, 13, 105. Посчитайте и выведите на экран размер\n",
    "памяти, который он занимает. Сохраните массив в текстовый и бинарный файлы.\n",
    "Затем загрузите его и выведите на экран"
   ]
  },
  {
   "cell_type": "code",
   "execution_count": 17,
   "metadata": {},
   "outputs": [
    {
     "name": "stdout",
     "output_type": "stream",
     "text": [
      "16\n",
      "1\n",
      "7\n",
      "13\n",
      "105\n",
      "\n",
      "[  1   7  13 105]\n"
     ]
    }
   ],
   "source": [
    "array = np.array([1, 7, 13, 105])\n",
    "print(array.nbytes)\n",
    "\n",
    "with open(\"arr_text.txt\", \"wt\") as f:\n",
    "    np.savetxt(f, array, fmt = \"%i\")\n",
    "\n",
    "with open(\"arr_bin\", \"wb\") as f:\n",
    "    np.save(f, array)\n",
    "\n",
    "with open('arr_text.txt', 'r') as f:\n",
    "    print(f.read())\n",
    "\n",
    "with open('arr_bin', 'rb') as f:\n",
    "    a = np.load(f)\n",
    "    print(a)\n"
   ]
  },
  {
   "cell_type": "markdown",
   "metadata": {},
   "source": [
    "##### 2. Три массива: из 10 нулей, 10 единиц, 10 пятерок"
   ]
  },
  {
   "cell_type": "code",
   "execution_count": 20,
   "metadata": {},
   "outputs": [
    {
     "name": "stdout",
     "output_type": "stream",
     "text": [
      "[0. 0. 0. 0. 0. 0. 0. 0. 0. 0.]\n",
      "[1. 1. 1. 1. 1. 1. 1. 1. 1. 1.]\n",
      "[5. 5. 5. 5. 5. 5. 5. 5. 5. 5.]\n"
     ]
    }
   ],
   "source": [
    "arr1 = np.zeros(10)\n",
    "print(arr1)\n",
    "arr2 = np.ones(10)\n",
    "print(arr2)\n",
    "arr3 = np.zeros(10)+5\n",
    "print(arr3)"
   ]
  },
  {
   "cell_type": "markdown",
   "metadata": {},
   "source": [
    "##### 3. Массив последовательности четных целых чисел от 30 до 70."
   ]
  },
  {
   "cell_type": "code",
   "execution_count": 22,
   "metadata": {},
   "outputs": [
    {
     "name": "stdout",
     "output_type": "stream",
     "text": [
      "[30 32 34 36 38 40 42 44 46 48 50 52 54 56 58 60 62 64 66 68 70]\n"
     ]
    }
   ],
   "source": [
    "arr = np.arange(30,71,2)\n",
    "print(arr)"
   ]
  },
  {
   "cell_type": "markdown",
   "metadata": {},
   "source": [
    "##### 4. Массив из 10 элементов со значениями, равномерно распределенными между 5 и 50."
   ]
  },
  {
   "cell_type": "code",
   "execution_count": 23,
   "metadata": {},
   "outputs": [
    {
     "name": "stdout",
     "output_type": "stream",
     "text": [
      "[ 5. 10. 15. 20. 25. 30. 35. 40. 45. 50.]\n"
     ]
    }
   ],
   "source": [
    "arr = np.linspace(5,50,10)\n",
    "print(arr)"
   ]
  },
  {
   "cell_type": "markdown",
   "metadata": {},
   "source": [
    "##### 5. Массив 3a[30]a[30] из 27 случайных чисел в диапазоне от 1 до 100."
   ]
  },
  {
   "cell_type": "code",
   "execution_count": 24,
   "metadata": {},
   "outputs": [
    {
     "name": "stdout",
     "output_type": "stream",
     "text": [
      "[[[78 91 92]\n",
      "  [73 69 39]\n",
      "  [78  7 83]]\n",
      "\n",
      " [[93 53 16]\n",
      "  [44 79 44]\n",
      "  [38 23  5]]\n",
      "\n",
      " [[78  4 40]\n",
      "  [65 95 15]\n",
      "  [67 79 48]]]\n"
     ]
    }
   ],
   "source": [
    "arr = np.random.randint(1,100,size = [3,3,3])\n",
    "print(arr)"
   ]
  },
  {
   "cell_type": "markdown",
   "metadata": {},
   "source": [
    "##### 6. Массив 3х4, заполненной значениями от 30 до 41."
   ]
  },
  {
   "cell_type": "code",
   "execution_count": 25,
   "metadata": {},
   "outputs": [
    {
     "name": "stdout",
     "output_type": "stream",
     "text": [
      "[[30 31 32 33]\n",
      " [34 35 36 37]\n",
      " [38 39 40 41]]\n"
     ]
    }
   ],
   "source": [
    "arr = np.arange(30,42).reshape([3,4])\n",
    "print(arr)"
   ]
  },
  {
   "cell_type": "markdown",
   "metadata": {},
   "source": [
    "##### 7. Массив 10a[10]0, в котором элементы на границах равны 1, а внутри 0"
   ]
  },
  {
   "cell_type": "code",
   "execution_count": 3,
   "metadata": {},
   "outputs": [
    {
     "name": "stdout",
     "output_type": "stream",
     "text": [
      "[[1. 1. 1. 1. 1. 1. 1. 1. 1. 1.]\n",
      " [1. 0. 0. 0. 0. 0. 0. 0. 0. 1.]\n",
      " [1. 0. 0. 0. 0. 0. 0. 0. 0. 1.]\n",
      " [1. 0. 0. 0. 0. 0. 0. 0. 0. 1.]\n",
      " [1. 0. 0. 0. 0. 0. 0. 0. 0. 1.]\n",
      " [1. 0. 0. 0. 0. 0. 0. 0. 0. 1.]\n",
      " [1. 0. 0. 0. 0. 0. 0. 0. 0. 1.]\n",
      " [1. 0. 0. 0. 0. 0. 0. 0. 0. 1.]\n",
      " [1. 0. 0. 0. 0. 0. 0. 0. 0. 1.]\n",
      " [1. 1. 1. 1. 1. 1. 1. 1. 1. 1.]]\n"
     ]
    }
   ],
   "source": [
    "arr = np.ones((10, 10))\n",
    "arr[1:-1, 1:-1] = 0\n",
    "print(arr)"
   ]
  },
  {
   "cell_type": "markdown",
   "metadata": {},
   "source": [
    "##### 8. Массив 5x5 из нулей с элементами на главной диагонали равными 1, 2, 3, 4, 5."
   ]
  },
  {
   "cell_type": "code",
   "execution_count": 4,
   "metadata": {},
   "outputs": [
    {
     "name": "stdout",
     "output_type": "stream",
     "text": [
      "[[1 0 0 0 0]\n",
      " [0 2 0 0 0]\n",
      " [0 0 3 0 0]\n",
      " [0 0 0 4 0]\n",
      " [0 0 0 0 5]]\n"
     ]
    }
   ],
   "source": [
    "arr = np.diag([1, 2, 3, 4, 5])\n",
    "print(arr)"
   ]
  },
  {
   "cell_type": "markdown",
   "metadata": {},
   "source": [
    "##### 9. Массив 4x4, в котором 0 и 1 расположены в шахматном порядке, с нулями на\n",
    "главной диагонали."
   ]
  },
  {
   "cell_type": "code",
   "execution_count": 5,
   "metadata": {},
   "outputs": [
    {
     "name": "stdout",
     "output_type": "stream",
     "text": [
      "[[0. 1. 0. 1.]\n",
      " [1. 0. 1. 0.]\n",
      " [0. 1. 0. 1.]\n",
      " [1. 0. 1. 0.]]\n"
     ]
    }
   ],
   "source": [
    "arr = np.zeros((4, 4))\n",
    "arr[::2, 1::2] = 1\n",
    "arr[1::2, ::2] = 1\n",
    "print(arr)"
   ]
  },
  {
   "cell_type": "markdown",
   "metadata": {},
   "source": [
    "##### 10. Массив, заполненный всеми днями марта 2017 года. Тип данных массива – дата"
   ]
  },
  {
   "cell_type": "code",
   "execution_count": 8,
   "metadata": {},
   "outputs": [
    {
     "name": "stdout",
     "output_type": "stream",
     "text": [
      "['2017-03-01' '2017-03-02' '2017-03-03' '2017-03-04' '2017-03-05'\n",
      " '2017-03-06' '2017-03-07' '2017-03-08' '2017-03-09' '2017-03-10'\n",
      " '2017-03-11' '2017-03-12' '2017-03-13' '2017-03-14' '2017-03-15'\n",
      " '2017-03-16' '2017-03-17' '2017-03-18' '2017-03-19' '2017-03-20'\n",
      " '2017-03-21' '2017-03-22' '2017-03-23' '2017-03-24' '2017-03-25'\n",
      " '2017-03-26' '2017-03-27' '2017-03-28' '2017-03-29' '2017-03-30'\n",
      " '2017-03-31']\n"
     ]
    }
   ],
   "source": [
    "arr = np.arange(np.datetime64('2017-03-01'), np.datetime64('2017-04-01'))\n",
    "print(arr)"
   ]
  },
  {
   "cell_type": "markdown",
   "metadata": {},
   "source": [
    "##### 1. Дано два массива. Получите массив, состоящий из их общих элементов."
   ]
  },
  {
   "cell_type": "code",
   "execution_count": 10,
   "metadata": {},
   "outputs": [
    {
     "name": "stdout",
     "output_type": "stream",
     "text": [
      "[2 7]\n"
     ]
    }
   ],
   "source": [
    "a = np.array([2, 4, 7, 1, 4])\n",
    "b = np.array([7, 2, 9, 0, 5])\n",
    "c = np.intersect1d(a, b)\n",
    "print(c)"
   ]
  },
  {
   "cell_type": "markdown",
   "metadata": {},
   "source": [
    "##### 2. Дан массив. Получите массив его уникальных элементов.\n"
   ]
  },
  {
   "cell_type": "code",
   "execution_count": 11,
   "metadata": {},
   "outputs": [
    {
     "name": "stdout",
     "output_type": "stream",
     "text": [
      "[1 2 3 4 5 6]\n"
     ]
    }
   ],
   "source": [
    "arr=np.unique([1,1,1,1,1,1,1,2,2,2,3,3,4,4,5,5,6])\n",
    "print(arr)"
   ]
  },
  {
   "cell_type": "markdown",
   "metadata": {},
   "source": [
    "##### 3. Дан массив. Получите два массива: его уникальные элементы и их частоты"
   ]
  },
  {
   "cell_type": "code",
   "execution_count": 14,
   "metadata": {},
   "outputs": [
    {
     "name": "stdout",
     "output_type": "stream",
     "text": [
      "[1 2 3 4 5 6]\n",
      "[7 3 2 2 2 1]\n"
     ]
    }
   ],
   "source": [
    "arr,counts=np.unique([1,1,1,1,1,1,1,2,2,2,3,3,4,4,5,5,6],return_counts=True)\n",
    "print(arr)\n",
    "print(counts)"
   ]
  },
  {
   "cell_type": "markdown",
   "metadata": {},
   "source": [
    "##### 4. Дан массив. Получите массив путем повторения данного"
   ]
  },
  {
   "cell_type": "code",
   "execution_count": 15,
   "metadata": {},
   "outputs": [
    {
     "name": "stdout",
     "output_type": "stream",
     "text": [
      "[1 2 3 1 2 3 1 2 3]\n"
     ]
    }
   ],
   "source": [
    "arr=np.tile([1,2,3], 3)\n",
    "print(arr)"
   ]
  },
  {
   "cell_type": "markdown",
   "metadata": {},
   "source": [
    "##### 5. Дан массив, в котором имеются значения nan. Получите массив, удалив все значения nan."
   ]
  },
  {
   "cell_type": "code",
   "execution_count": 19,
   "metadata": {},
   "outputs": [
    {
     "name": "stdout",
     "output_type": "stream",
     "text": [
      "[200. 300. 700.]\n"
     ]
    }
   ],
   "source": [
    "arr= np.array([200, 300, np.nan, np.nan, np.nan, 700])\n",
    "b = arr[np.logical_not(np.isnan(arr))]\n",
    "print(b)"
   ]
  },
  {
   "cell_type": "markdown",
   "metadata": {},
   "source": [
    "##### 6. Дан массив. Получите массив его k наименьших значений"
   ]
  },
  {
   "cell_type": "code",
   "execution_count": 20,
   "metadata": {},
   "outputs": [
    {
     "name": "stdout",
     "output_type": "stream",
     "text": [
      "[1 3 4]\n"
     ]
    }
   ],
   "source": [
    "arr = np.sort(np.array([23, 12, 1, 3, 4, 5, 6]))\n",
    "k=3\n",
    "print(arr[:3])"
   ]
  },
  {
   "cell_type": "markdown",
   "metadata": {},
   "source": [
    "##### 7. Дан массив и некоторое число. Найдите ближайший по значению к числу элемент массива."
   ]
  },
  {
   "cell_type": "code",
   "execution_count": 28,
   "metadata": {},
   "outputs": [
    {
     "name": "stdout",
     "output_type": "stream",
     "text": [
      "2.5\n"
     ]
    }
   ],
   "source": [
    "arr = np.array([23, 12, 1, 3, 4, 5, 6,2.5])\n",
    "v = 2.6\n",
    "n = arr[np.abs(arr - v).argmin()]\n",
    "print(n)"
   ]
  },
  {
   "cell_type": "markdown",
   "metadata": {},
   "source": [
    "##### 8. Дано два массива со строками. Получите массив при помощи поэлементного объединения."
   ]
  },
  {
   "cell_type": "code",
   "execution_count": 32,
   "metadata": {},
   "outputs": [
    {
     "name": "stdout",
     "output_type": "stream",
     "text": [
      "['Python Java' 'PHP C++']\n"
     ]
    }
   ],
   "source": [
    "a[10] = np.array(['Python', 'PHP'])\n",
    "a[20] = np.array([' Java', ' C++'])\n",
    "new_array = np.char.add(a[10], a[20])\n",
    "print(new_array)"
   ]
  },
  {
   "cell_type": "markdown",
   "metadata": {},
   "source": [
    "##### 9. Дан массив строк. Получите массив с частотой встречаемости буквы «P»."
   ]
  },
  {
   "cell_type": "code",
   "execution_count": 37,
   "metadata": {},
   "outputs": [
    {
     "name": "stdout",
     "output_type": "stream",
     "text": [
      "[1 2 0 0 0]\n"
     ]
    }
   ],
   "source": [
    "arr = np.array(['Python', 'PHP', 'JS', 'examples', 'html'])\n",
    "print(np.char.count(arr,\"P\"))"
   ]
  },
  {
   "cell_type": "markdown",
   "metadata": {},
   "source": [
    "##### 10. Найдите корни следующих полиномов:\n",
    "\n",
    "a) x^2 - 4х + 7\n",
    "\n",
    "b) x^4 - 11х^3 + 9х^2 + 11х - 10\n"
   ]
  },
  {
   "cell_type": "code",
   "execution_count": 40,
   "metadata": {},
   "outputs": [
    {
     "name": "stdout",
     "output_type": "stream",
     "text": [
      "   2\n",
      "1 x - 4 x + 7\n",
      "[2.+1.73205081j 2.-1.73205081j]\n",
      "\n",
      "   4      3     2\n",
      "1 x - 11 x + 9 x + 11 x - 10\n",
      "[10.+0.0000000e+00j -1.+0.0000000e+00j  1.+9.6357437e-09j\n",
      "  1.-9.6357437e-09j]\n"
     ]
    }
   ],
   "source": [
    "a = np.poly1d([1, -4, 7])\n",
    "b = np.poly1d([1, -11, 9, 11, -10])\n",
    "print(a)\n",
    "print(a.r)\n",
    "print()\n",
    "print(b)\n",
    "print(b.r)"
   ]
  },
  {
   "cell_type": "markdown",
   "metadata": {},
   "source": [
    "![alt text](num3.png \"Title\")"
   ]
  },
  {
   "cell_type": "code",
   "execution_count": 44,
   "metadata": {},
   "outputs": [
    {
     "name": "stdout",
     "output_type": "stream",
     "text": [
      "-1.0000000000000004\n",
      "[-1.  1.]\n"
     ]
    }
   ],
   "source": [
    "a11 = int(input(\"a11->\"))\n",
    "a12 = int(input(\"a12->\"))\n",
    "a21 = int(input(\"a21->\"))\n",
    "a22 = int(input(\"a22->\"))\n",
    "\n",
    "r1 = int(input(\"r1->\"))\n",
    "r2 = int(input(\"r2->\"))\n",
    "\n",
    "arr = np.array([[a11,a12],[a21,a22]])\n",
    "arr2 = np.array([r1,r2])\n",
    "\n",
    "if np.linalg.det(arr) == 0:\n",
    "    print(\"нет решений\")\n",
    "else:\n",
    "    print(np.linalg.solve(arr,arr2))\n"
   ]
  }
 ],
 "metadata": {
  "kernelspec": {
   "display_name": "Python 3.10.4 64-bit",
   "language": "python",
   "name": "python3"
  },
  "language_info": {
   "codemirror_mode": {
    "name": "ipython",
    "version": 3
   },
   "file_extension": ".py",
   "mimetype": "text/x-python",
   "name": "python",
   "nbconvert_exporter": "python",
   "pygments_lexer": "ipython3",
   "version": "3.10.4"
  },
  "orig_nbformat": 4,
  "vscode": {
   "interpreter": {
    "hash": "5a36fc6bded80c7dba15ba6e493e0fae11d31fb080977968d3829f197de4bb46"
   }
  }
 },
 "nbformat": 4,
 "nbformat_minor": 2
}
