{
 "cells": [
  {
   "cell_type": "markdown",
   "metadata": {},
   "source": [
    "№ 1\n",
    "\n",
    "(2 балла)\n",
    "\n",
    "В примере алгоритма поиска в ширину из лекции\n",
    "(https://cloud.mail.ru/public/9yCy/LitbGAfEg) структура данных граф представлена\n",
    "словарем. Переделайте этот пример, заменив словарь на реализацию класса Graph из\n",
    "лекционных материалов.\n"
   ]
  },
  {
   "cell_type": "code",
   "execution_count": 1,
   "metadata": {},
   "outputs": [
    {
     "name": "stdout",
     "output_type": "stream",
     "text": [
      "thom connectedTo: []\n",
      "bob connectedTo: ['anuj', 'peggy']\n",
      "claire connectedTo: ['thom', 'jonny']\n",
      "alice connectedTo: ['peggy']\n",
      "jonny connectedTo: []\n",
      "anuj connectedTo: []\n",
      "you connectedTo: ['alice', 'bob', 'claire']\n",
      "peggy connectedTo: []\n",
      "person = 'alice'\n",
      "person = 'bob'\n",
      "person = 'claire'\n",
      "person = 'peggy'\n",
      "person = 'anuj' is a mango seller!\n"
     ]
    }
   ],
   "source": [
    "from collections import deque\n",
    "from graph import Graph\n",
    "\n",
    "\n",
    "def person_is_seller(name):\n",
    "    return name == 'anuj'\n",
    "\n",
    "\n",
    "if __name__ == \"__main__\":\n",
    "\n",
    "    graph2 = Graph()\n",
    "    people = [\"thom\", \"bob\", \"claire\", \"alice\",\n",
    "              \"jonny\", \"anuj\", \"you\", \"peggy\"]\n",
    "    for name in people:\n",
    "        graph2.addVertex(name)\n",
    "\n",
    "    graph2.addEdge(\"you\", \"alice\")\n",
    "    graph2.addEdge(\"you\", \"bob\")\n",
    "    graph2.addEdge(\"you\", \"claire\")\n",
    "\n",
    "    graph2.addEdge(\"bob\", \"anuj\")\n",
    "    graph2.addEdge(\"bob\", \"peggy\")\n",
    "\n",
    "    graph2.addEdge(\"alice\", \"peggy\")\n",
    "\n",
    "    graph2.addEdge(\"claire\", \"thom\")\n",
    "    graph2.addEdge(\"claire\", \"jonny\")\n",
    "\n",
    "    for v in graph2:\n",
    "        print(v)\n",
    "\n",
    "    def search(name):\n",
    "        search_queue = deque()\n",
    "        search_queue += graph2.getVertex(name).getConnections()\n",
    "        searched = set()\n",
    "        while search_queue:\n",
    "            person = search_queue.popleft().getId()\n",
    "            if person not in searched:\n",
    "                if person_is_seller(person):\n",
    "                    print(f\"{person = } is a mango seller!\")\n",
    "                    return True\n",
    "                else:\n",
    "                    print(f\"{person = }\")\n",
    "                    search_queue += graph2.getVertex(person).getConnections()\n",
    "                    searched.add(person)\n",
    "        return False\n",
    "\n",
    "    search(\"you\")"
   ]
  },
  {
   "cell_type": "markdown",
   "metadata": {},
   "source": [
    "№ 2\n",
    "\n",
    "(2 балла)\n",
    "\n",
    "Реализуйте программу, которая по заданному в виде списка смежности графу строит\n",
    "обращённый граф (тоже в виде списка смежности). Обращённый граф получается\n",
    "изменением направления всех рёбер исходного графа. Используйте класс Graph из\n",
    "лекционных материалов."
   ]
  },
  {
   "cell_type": "code",
   "execution_count": 2,
   "metadata": {},
   "outputs": [
    {
     "name": "stdout",
     "output_type": "stream",
     "text": [
      "graph:\n",
      "0 connectedTo: [1, 2]\n",
      "1 connectedTo: [3]\n",
      "2 connectedTo: [1]\n",
      "3 connectedTo: []\n",
      "\n",
      "reversed graph:\n",
      "1 connectedTo: [0, 2]\n",
      "0 connectedTo: []\n",
      "2 connectedTo: [0]\n",
      "3 connectedTo: [1]\n",
      "\n"
     ]
    }
   ],
   "source": [
    "from graph import Graph\n",
    "\n",
    "\n",
    "def print_conns(graph: Graph):\n",
    "    for v in graph.getVertices():\n",
    "        vert = graph.getVertex(v)\n",
    "        print(vert)\n",
    "    print()\n",
    "\n",
    "\n",
    "def rev_graph(graph: Graph):\n",
    "    new_g = Graph()\n",
    "    for v in graph.getVertices():\n",
    "        vert = graph.getVertex(v)\n",
    "        for conn in vert.getConnections():\n",
    "            new_g.addEdge(conn.id, vert.id)\n",
    "\n",
    "    return new_g\n",
    "\n",
    "\n",
    "if __name__ == \"__main__\":\n",
    "    graph = Graph()\n",
    "    graph.addEdge(0, 1)\n",
    "    graph.addEdge(0, 2)\n",
    "    graph.addEdge(2, 1)\n",
    "    graph.addEdge(1, 3)\n",
    "    print(\"graph:\")\n",
    "    print_conns(graph)\n",
    "    print(\"reversed graph:\")\n",
    "    print_conns(rev_graph(graph))"
   ]
  },
  {
   "cell_type": "markdown",
   "metadata": {},
   "source": [
    "№ 4\n",
    "\n",
    "(5 баллов)\n",
    "\n",
    "У вас имеется список городов и набор автобусных маршрутов между ними. Маршруты\n",
    "однонаправленные, т.е. маршрут вида «город А – город Б» означает, что можно поехать из\n",
    "города А в город Б, а обратного проезда нет.\n",
    "Пользователь вводит два города. Ваша программа должна определить минимальный по\n",
    "количеству километров возможный путь от первого до второго города, или сообщение, что\n",
    "пути между городами нет. Нужно вывести как количество километров, так и получившейся\n",
    "путь.\n",
    "\n",
    "Для решения задачи используйте алгоритм Дейкстры и класс Graph из лекционных\n",
    "материалов. Список городов и маршрутов возьмите согласно вашему варианту. Расстояние\n",
    "между городами найдите в интернете самостоятельно.\n",
    "Также необходимо нарисовать граф вашего варианта (например, здесь\n",
    "https://graphonline.ru/) и приложить его в ваш отчет. \n",
    "\n",
    "вариант 5"
   ]
  },
  {
   "cell_type": "code",
   "execution_count": 3,
   "metadata": {},
   "outputs": [
    {
     "name": "stdout",
     "output_type": "stream",
     "text": [
      "Пути между городами Осинники и Междуреченск нет\n",
      "Киселевск(0) -> Прокопьевск(13) -> Белово(99) -> Красноярск(750)\n",
      "Киселевск(0) -> Прокопьевск(13)\n"
     ]
    }
   ],
   "source": [
    "from graph import Graph\n",
    "\n",
    "#  вариант 5\n",
    "\n",
    "\n",
    "def calc_dist(n1: str, n2: str, graph: Graph):\n",
    "    start = graph.getVertex(n1)\n",
    "    finish = graph.getVertex(n2)\n",
    "\n",
    "    unvisited = {node: float(\"inf\") for node in graph}\n",
    "    visited = {}\n",
    "    best_parents = {node: None for node in graph}\n",
    "    unvisited[start] = 0\n",
    "\n",
    "    while unvisited:\n",
    "        min_vertex = min(unvisited, key=unvisited.get)\n",
    "\n",
    "        for neighbour, distance in min_vertex.connectedTo.items():\n",
    "            if neighbour not in unvisited:\n",
    "                continue\n",
    "            newDistance = unvisited[min_vertex] + distance\n",
    "            if unvisited[neighbour] == float(\"inf\") or unvisited[neighbour] > newDistance:\n",
    "                unvisited[neighbour] = newDistance\n",
    "                best_parents[neighbour] = min_vertex\n",
    "\n",
    "        visited[min_vertex] = unvisited[min_vertex]\n",
    "        del unvisited[min_vertex]\n",
    "        if not unvisited or min_vertex == finish:\n",
    "            break\n",
    "\n",
    "    if visited[finish] == float(\"inf\"):\n",
    "        print(f\"Пути между городами {start.getId()} и {finish.getId()} нет\")\n",
    "        return\n",
    "\n",
    "    path = [finish]\n",
    "    cost = [visited[finish]]\n",
    "    while True:\n",
    "        key = best_parents[path[0]]\n",
    "        path.insert(0, key)\n",
    "        cost.insert(0, visited[path[0]])\n",
    "        if key == start:\n",
    "            break\n",
    "\n",
    "    for p, c in zip(path[:-1], cost[:-1]):\n",
    "        print(f\"{p.getId()}({c}) -> \", end=\"\")\n",
    "\n",
    "    print(f\"{path[-1].getId()}({cost[-1]})\")\n",
    "\n",
    "\n",
    "if __name__ == \"__main__\":\n",
    "    graph = Graph()\n",
    "    data = '''\n",
    "    Киселевск, Таштагол, 215, \n",
    "    Киселевск, Прокопьевск, 13, \n",
    "    Прокопьевск, Междуреченск, 116, \n",
    "    Прокопьевск, Белово, 86, \n",
    "    Осинники, Красноярск, 778, \n",
    "    Таштагол, Осинники, 148, \n",
    "    Таштагол, Красноярск, 905, \n",
    "    Таштагол, Междуреченск, 234, \n",
    "    Междуреченск, Красноярск, 829, \n",
    "    Белово, Междуреченск, 189, \n",
    "    Белово, Красноярск, 651\n",
    "    '''\n",
    "    data = [i.strip() for i in data.strip().split(\", \")]\n",
    "    data = [data[i:i + 3] for i in range(0, len(data), 3)]\n",
    "\n",
    "    for i in data:\n",
    "        graph.addEdge(i[0], i[1], int(i[2]))\n",
    "\n",
    "    calc_dist(\"Осинники\", \"Междуреченск\", graph)\n",
    "    calc_dist(\"Киселевск\", \"Красноярск\", graph)\n",
    "    calc_dist(\"Киселевск\", \"Прокопьевск\", graph)"
   ]
  },
  {
   "cell_type": "markdown",
   "metadata": {},
   "source": [
    "![alt text](Graph1.png \"Title\")"
   ]
  }
 ],
 "metadata": {
  "kernelspec": {
   "display_name": "Python 3.10.4 64-bit",
   "language": "python",
   "name": "python3"
  },
  "language_info": {
   "codemirror_mode": {
    "name": "ipython",
    "version": 3
   },
   "file_extension": ".py",
   "mimetype": "text/x-python",
   "name": "python",
   "nbconvert_exporter": "python",
   "pygments_lexer": "ipython3",
   "version": "3.10.4"
  },
  "orig_nbformat": 4,
  "vscode": {
   "interpreter": {
    "hash": "5a36fc6bded80c7dba15ba6e493e0fae11d31fb080977968d3829f197de4bb46"
   }
  }
 },
 "nbformat": 4,
 "nbformat_minor": 2
}
