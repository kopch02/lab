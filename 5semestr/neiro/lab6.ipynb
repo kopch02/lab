{
 "cells": [
  {
   "cell_type": "code",
   "execution_count": 22,
   "metadata": {},
   "outputs": [],
   "source": [
    "import math\n",
    "import statistics\n",
    "import numpy as np\n",
    "import scipy.stats as st\n",
    "import pandas as pd\n",
    "\n",
    "file=\"lab6.txt\""
   ]
  },
  {
   "cell_type": "markdown",
   "metadata": {},
   "source": [
    "1) Используя метод .describe() вычислите описательные статистики для\n",
    "северных и южных городов. Сравните средние значения смертности в\n",
    "северных и южных городах и значения концентрации кальция в питьевой\n",
    "воде"
   ]
  },
  {
   "cell_type": "code",
   "execution_count": 20,
   "metadata": {},
   "outputs": [
    {
     "name": "stdout",
     "output_type": "stream",
     "text": [
      "         mortality   hardness\n",
      "count    35.000000  35.000000\n",
      "mean   1633.600000  30.400000\n",
      "std     136.936911  26.134494\n",
      "min    1378.000000   6.000000\n",
      "25%    1557.500000  12.500000\n",
      "50%    1637.000000  17.000000\n",
      "75%    1718.000000  44.000000\n",
      "max    1987.000000  94.000000\n",
      "         mortality    hardness\n",
      "count    26.000000   26.000000\n",
      "mean   1376.807692   69.769231\n",
      "std     140.269175   40.360682\n",
      "min    1096.000000    5.000000\n",
      "25%    1259.250000   40.250000\n",
      "50%    1364.000000   75.500000\n",
      "75%    1485.750000   99.750000\n",
      "max    1627.000000  138.000000\n",
      "смертность больше в северных? -  True\n",
      "кальций больше в северных? -  False\n"
     ]
    }
   ],
   "source": [
    "df=pd.read_table(file)\n",
    "north = df[df[\"location\"].isin([\"North\"])]\n",
    "south = df[df[\"location\"].isin([\"South\"])]\n",
    "print(north.describe())\n",
    "print(south.describe())\n",
    "print(f\"смертность больше в северных? -  {north['mortality'].mean()>south['mortality'].mean()}\")\n",
    "print(f\"кальций больше в северных? -  {north['hardness'].mean()>south['hardness'].mean()}\")"
   ]
  },
  {
   "cell_type": "code",
   "execution_count": 34,
   "metadata": {},
   "outputs": [
    {
     "name": "stdout",
     "output_type": "stream",
     "text": [
      "Постройте 95% доверительные интервалы для средней годовой смертности: \n",
      "для северных городов:\n",
      "(1586.5605251961385, 1680.6394748038613)\n",
      "для южных городов:\n",
      "(1320.1517462936238, 1433.463638321761)\n",
      "Постройте 95% доверительные интервалы для средней концентрации кальция в питьевой воде: \n",
      "для северных городов:\n",
      "(21.42248728572426, 39.37751271427574)\n",
      "для южных городов:\n",
      "(53.467198692036106, 86.07126284642544)\n"
     ]
    },
    {
     "name": "stderr",
     "output_type": "stream",
     "text": [
      "C:\\Users\\iskan\\AppData\\Local\\Temp\\ipykernel_13160\\390800217.py:3: DeprecationWarning: Use of keyword argument `alpha` for method `interval` is deprecated. Use first positional argument or keyword argument `confidence` instead.\n",
      "  print(st.t.interval(alpha=0.95, df=len(north[\"mortality\"])-1, loc=np.mean(north[\"mortality\"]), scale=st.sem(north[\"mortality\"])))\n",
      "C:\\Users\\iskan\\AppData\\Local\\Temp\\ipykernel_13160\\390800217.py:5: DeprecationWarning: Use of keyword argument `alpha` for method `interval` is deprecated. Use first positional argument or keyword argument `confidence` instead.\n",
      "  print(st.t.interval(alpha=0.95, df=len(south[\"mortality\"])-1, loc=np.mean(south[\"mortality\"]), scale=st.sem(south[\"mortality\"])))\n",
      "C:\\Users\\iskan\\AppData\\Local\\Temp\\ipykernel_13160\\390800217.py:8: DeprecationWarning: Use of keyword argument `alpha` for method `interval` is deprecated. Use first positional argument or keyword argument `confidence` instead.\n",
      "  print(st.t.interval(alpha=0.95, df=len(north[\"hardness\"])-1, loc=np.mean(north[\"hardness\"]), scale=st.sem(north[\"hardness\"])))\n",
      "C:\\Users\\iskan\\AppData\\Local\\Temp\\ipykernel_13160\\390800217.py:10: DeprecationWarning: Use of keyword argument `alpha` for method `interval` is deprecated. Use first positional argument or keyword argument `confidence` instead.\n",
      "  print(st.t.interval(alpha=0.95, df=len(south[\"hardness\"])-1, loc=np.mean(south[\"hardness\"]), scale=st.sem(south[\"hardness\"])))\n"
     ]
    }
   ],
   "source": [
    "print(\"Постройте 95% доверительные интервалы для средней годовой смертности: \")\n",
    "print(\"для северных городов:\")\n",
    "print(st.t.interval(alpha=0.95, df=len(north[\"mortality\"])-1, loc=np.mean(north[\"mortality\"]), scale=st.sem(north[\"mortality\"])))\n",
    "print(\"для южных городов:\")\n",
    "print(st.t.interval(alpha=0.95, df=len(south[\"mortality\"])-1, loc=np.mean(south[\"mortality\"]), scale=st.sem(south[\"mortality\"])))\n",
    "print(\"Постройте 95% доверительные интервалы для средней концентрации кальция в питьевой воде: \")\n",
    "print(\"для северных городов:\")\n",
    "print(st.t.interval(alpha=0.95, df=len(north[\"hardness\"])-1, loc=np.mean(north[\"hardness\"]), scale=st.sem(north[\"hardness\"])))\n",
    "print(\"для южных городов:\")\n",
    "print(st.t.interval(alpha=0.95, df=len(south[\"hardness\"])-1, loc=np.mean(south[\"hardness\"]), scale=st.sem(south[\"hardness\"])))"
   ]
  }
 ],
 "metadata": {
  "kernelspec": {
   "display_name": "Python 3.10.4 64-bit",
   "language": "python",
   "name": "python3"
  },
  "language_info": {
   "codemirror_mode": {
    "name": "ipython",
    "version": 3
   },
   "file_extension": ".py",
   "mimetype": "text/x-python",
   "name": "python",
   "nbconvert_exporter": "python",
   "pygments_lexer": "ipython3",
   "version": "3.10.4"
  },
  "orig_nbformat": 4,
  "vscode": {
   "interpreter": {
    "hash": "5a36fc6bded80c7dba15ba6e493e0fae11d31fb080977968d3829f197de4bb46"
   }
  }
 },
 "nbformat": 4,
 "nbformat_minor": 2
}
