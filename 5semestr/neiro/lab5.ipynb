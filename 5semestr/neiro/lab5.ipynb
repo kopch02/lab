{
 "cells": [
  {
   "cell_type": "markdown",
   "metadata": {},
   "source": [
    "1) Установим необходимые библиотеки и вызовем их:"
   ]
  },
  {
   "cell_type": "code",
   "execution_count": null,
   "metadata": {},
   "outputs": [],
   "source": [
    "import math\n",
    "import statistics\n",
    "import numpy as np\n",
    "import scipy.stats\n",
    "import pandas as pd"
   ]
  },
  {
   "cell_type": "markdown",
   "metadata": {},
   "source": [
    "2) Создадим списки x и x_with_nan"
   ]
  },
  {
   "cell_type": "code",
   "execution_count": 2,
   "metadata": {},
   "outputs": [
    {
     "name": "stdout",
     "output_type": "stream",
     "text": [
      "Вывод исходных данных, которые содержатся в x:[10.0, 2, 2.5, 5, 26.0]\n",
      "Вывод исходных данных, которые содержатся в x_with_nan:[10.0, 2, 2.5, nan, 5, 26.0]\n"
     ]
    }
   ],
   "source": [
    "x = [10.0, 2, 2.5, 5, 26.0]\n",
    "x_with_nan = [10.0, 2, 2.5, math.nan, 5, 26.0]\n",
    "print(f'Вывод исходных данных, которые содержатся в x:{x}')\n",
    "print(f'Вывод исходных данных, которые содержатся в x_with_nan:{x_with_nan}')"
   ]
  },
  {
   "cell_type": "markdown",
   "metadata": {},
   "source": [
    "3) Создадим объекты np.ndarray и pd.Series, соответствующие x и x_with_nan:\n"
   ]
  },
  {
   "cell_type": "code",
   "execution_count": 3,
   "metadata": {},
   "outputs": [
    {
     "name": "stdout",
     "output_type": "stream",
     "text": [
      "Вывод данных, которые содержатся в y и y_with_nan:[10.   2.   2.5  5.  26. ], [10.   2.   2.5  nan  5.  26. ]\n",
      "Вывод данных, которые содержатся в z и в z_with_nan: 0    10.0\n",
      "1     2.0\n",
      "2     2.5\n",
      "3     5.0\n",
      "4    26.0\n",
      "dtype: float64, 0    10.0\n",
      "1     2.0\n",
      "2     2.5\n",
      "3     NaN\n",
      "4     5.0\n",
      "5    26.0\n",
      "dtype: float64\n"
     ]
    }
   ],
   "source": [
    "y, y_with_nan = np.array(x), np.array(x_with_nan)\n",
    "z, z_with_nan = pd.Series(x), pd.Series(x_with_nan)\n",
    "print(f'Вывод данных, которые содержатся в y и y_with_nan:{y}, {y_with_nan}')\n",
    "print(f'Вывод данных, которые содержатся в z и в z_with_nan: {z}, {z_with_nan}')\n"
   ]
  },
  {
   "cell_type": "markdown",
   "metadata": {},
   "source": [
    "4) После формирования исходных данных, приступаем к расчету\n",
    "центральной метрики, а именно среднего значения:\n"
   ]
  },
  {
   "cell_type": "code",
   "execution_count": 4,
   "metadata": {},
   "outputs": [
    {
     "name": "stdout",
     "output_type": "stream",
     "text": [
      "Расчет среднего значения, используя sum и len: 9.1\n",
      "Расчет среднего значения, используя встроенные функции статистики Python (statistics.mean(x)): 9.1\n",
      "Расчет среднего значения, используя встроенные функции статистики Python (statistics.fmean(x)): 9.1\n",
      "Расчет среднего значения, который содержит значения nan,используя встроенные функции статистики Python (statistics.mean(x)): nan\n",
      "Расчет среднего значения, используя NumPy: 9.1\n",
      "Расчет среднего значения с помощью NumPy, игнорируя nan: 9.1\n",
      "Расчет среднего значения объекта pd.Series: 9.1\n"
     ]
    }
   ],
   "source": [
    "#Расчет средних значений\n",
    "mean_1 = sum(x) / len(x)\n",
    "print(f'Расчет среднего значения, используя sum и len: {mean_1}')\n",
    "mean_2 = statistics.mean(x)\n",
    "print(f'Расчет среднего значения, используя встроенные функции статистики Python (statistics.mean(x)): {mean_2}')\n",
    "mean_3 = statistics.fmean(x)\n",
    "print(f'Расчет среднего значения, используя встроенные функции статистики Python (statistics.fmean(x)): {mean_3}')\n",
    "mean_4 = statistics.mean(x_with_nan)\n",
    "print(f'Расчет среднего значения, который содержит значения nan,используя встроенные функции статистики Python (statistics.mean(x)): {mean_4}')\n",
    "mean_5 = np.mean(y)\n",
    "print(f'Расчет среднего значения, используя NumPy: {mean_5}')\n",
    "np.nanmean(y_with_nan)\n",
    "print(f'Расчет среднего значения с помощью NumPy, игнорируя nan: {np.nanmean(y_with_nan)}')\n",
    "mean_6 = z.mean()\n",
    "print(f'Расчет среднего значения объекта pd.Series: {mean_6}')"
   ]
  },
  {
   "cell_type": "markdown",
   "metadata": {},
   "source": [
    "5) Рассчитаем средневзвешенное значение. Средневзвешенное или также\n",
    "называемое средневзвешенным арифметическим или средневзвешенным\n",
    "значением, является обобщением среднего арифметического, которое позволяет\n",
    "вам определить относительный вклад каждой точки данных в результат:"
   ]
  },
  {
   "cell_type": "code",
   "execution_count": null,
   "metadata": {},
   "outputs": [],
   "source": [
    "#Расчет средневзвешанных значений\n",
    "x = [6.0, 1, 2.5, 6, 25.0]\n",
    "w = [0.1, 0.2, 0.3, 0.25, 0.15]\n",
    "wmean = sum(w[i] * x[i] for i in range(len(x))) / sum(w)\n",
    "print(f'Расчет средневзвешанного с помощью range: {wmean}')\n",
    "wmean2 = sum(x_ * w_ for (x_, w_) in zip(x, w)) / sum(w)\n",
    "print(f'Расчет средневзвешанного с помощью zip: {wmean2}')\n",
    "y, z, w = np.array(x), pd.Series(x), np.array(w)\n",
    "wmean3= np.average(y, weights=w)\n",
    "print(f'Расчет средневзвешанного с помощью np.average для массивово NumPy или серии Pandas: {wmean3}')\n",
    "o = (w * y).sum() / w.sum()\n",
    "print(f'Расчет средневзвешанного с помощью поэлементного умножения w * y: {o}')\n",
    "w = np.array([0.1, 0.2, 0.3, 0.0, 0.2, 0.1])\n",
    "print(f'Расчет средневзвешанного для набора, который содержит nan: {(w * y_with_nan).sum() / w.sum()}')"
   ]
  },
  {
   "cell_type": "markdown",
   "metadata": {},
   "source": [
    "6) Рассчитаем гармоническое среднее, что есть обратная величина от\n",
    "среднего значения обратных величин всех элементов в наборе данных:"
   ]
  },
  {
   "cell_type": "code",
   "execution_count": null,
   "metadata": {},
   "outputs": [],
   "source": [
    "#Гармоническое среднее\n",
    "hmean = len(x) / sum(1 / item for item in x)\n",
    "print(f'Расчет гармонического среднего: {hmean}')\n",
    "hmean2 = statistics.harmonic_mean(x)\n",
    "print(f'Расчет гармонического среднего с помощью statistics.harmonic_mean(): {hmean2}')\n",
    "statistics.harmonic_mean(x_with_nan)\n",
    "print(f'Расчет гармонического среднего, где есть nan: {statistics.harmonic_mean(x_with_nan)}')\n",
    "statistics.harmonic_mean([1, 0, 2])\n",
    "print(f'Расчет гармонического среднего, где есть 0: {statistics.harmonic_mean([1, 0, 2])}')\n",
    "scipy.stats.hmean(y)\n",
    "print(f'Расчет гармонического среднего с помощью scipy.stats.hmean(): {scipy.stats.hmean(y)}')"
   ]
  },
  {
   "cell_type": "markdown",
   "metadata": {},
   "source": [
    "7) Рассчитаем среднее геометрическое:"
   ]
  },
  {
   "cell_type": "code",
   "execution_count": 5,
   "metadata": {},
   "outputs": [
    {
     "name": "stdout",
     "output_type": "stream",
     "text": [
      "Вычисление геометрического среднего: 2.0650883555218615\n",
      "Вычисление геометрического среднего с помощью statistics.geometric_mean(): 5.788721706765793\n",
      "Вычисление геометрического среднего где есть nan: nan\n",
      "Вычисление геометрического среднего с помощью scipy.stats.gmean(): 5.788721706765793\n"
     ]
    }
   ],
   "source": [
    "#Среднее геометрическое\n",
    "gmean = 1\n",
    "for item in x:\n",
    "    gmean *= item\n",
    "    gmean **= 1 / len(x)\n",
    "print(f'Вычисление геометрического среднего: {gmean}')\n",
    "gmean2 = statistics.geometric_mean(x)\n",
    "print(f'Вычисление геометрического среднего с помощью statistics.geometric_mean(): {gmean2}')\n",
    "gmean3 = statistics.geometric_mean(x_with_nan)\n",
    "print(f'Вычисление геометрического среднего где есть nan: {gmean3}')\n",
    "scipy.stats.gmean(y)\n",
    "print(f'Вычисление геометрического среднего с помощью scipy.stats.gmean(): {scipy.stats.gmean(y)}')"
   ]
  },
  {
   "cell_type": "markdown",
   "metadata": {},
   "source": [
    "8) Медиана – это средний элемент отсортированного набора данных.\n",
    "Расчет медианы представлен в следующем программном коде:"
   ]
  },
  {
   "cell_type": "code",
   "execution_count": 6,
   "metadata": {},
   "outputs": [
    {
     "name": "stdout",
     "output_type": "stream",
     "text": [
      "Расчет медианы: 5\n",
      "Расчет медианы с помощью statistics.median(): 5\n",
      "Расчет медианы с помощью statistics.median_low: 2.5\n",
      "Расчет медианы с помощью statistics.median_high 5\n",
      "Расчет медианы с помощью np.median: 5.0\n"
     ]
    }
   ],
   "source": [
    "n = len(x)\n",
    "if n % 2:\n",
    "    median_ = sorted(x)[round(0.5*(n-1))]\n",
    "else:\n",
    "    x_ord, index = sorted(x), round(0.5 * n)\n",
    "    median_ = 0.5 * (x_ord[index-1] + x_ord[index])\n",
    "print(f'Расчет медианы: {median_}')\n",
    "median_2 = statistics.median(x)\n",
    "print(f'Расчет медианы с помощью statistics.median(): {median_2}')\n",
    "statistics.median_low(x[:-1])\n",
    "print(f'Расчет медианы с помощью statistics.median_low: {statistics.median_low(x[:-1])}')\n",
    "statistics.median_high(x[:-1])\n",
    "print(f'Расчет медианы с помощью statistics.median_high {statistics.median_high(x[:-1])}')\n",
    "median_2 = np.median(y)\n",
    "print(f'Расчет медианы с помощью np.median: {median_2}')"
   ]
  },
  {
   "cell_type": "markdown",
   "metadata": {},
   "source": [
    "9) Мода – это значение в наборе данных, которое встречается чаще всего.\n",
    "Если такого значения не существует, набор является мультимодальным,\n",
    "поскольку он имеет несколько модальных значений. Расчет моды представлен в\n",
    "программном коде:"
   ]
  },
  {
   "cell_type": "code",
   "execution_count": 7,
   "metadata": {},
   "outputs": [
    {
     "name": "stdout",
     "output_type": "stream",
     "text": [
      "Вычисление моды: 2\n",
      "Вычисление моды с помощью statistics.mode(): 2\n",
      "Вычисление моды с помощью statistics.multimode():[2]\n",
      "Вычисление моды с помощью scipy.stats.mode(): ModeResult(mode=array([2]), count=array([2]))\n"
     ]
    },
    {
     "name": "stderr",
     "output_type": "stream",
     "text": [
      "C:\\Users\\iskan\\AppData\\Local\\Temp\\ipykernel_21972\\1345025229.py:8: FutureWarning: Unlike other reduction functions (e.g. `skew`, `kurtosis`), the default behavior of `mode` typically preserves the axis it acts along. In SciPy 1.11.0, this behavior will change: the default value of `keepdims` will become False, the `axis` over which the statistic is taken will be eliminated, and the value None will no longer be accepted. Set `keepdims` to True or False to avoid this warning.\n",
      "  mode_4 = scipy.stats.mode(u)\n"
     ]
    }
   ],
   "source": [
    "u = [2, 3, 2, 8, 12]\n",
    "mode_ = max((u.count(item), item) for item in set(u))[1]\n",
    "print(f'Вычисление моды: {mode_}')\n",
    "mode_2 = statistics.mode(u)\n",
    "print(f'Вычисление моды с помощью statistics.mode(): {mode_2}')\n",
    "mode_3 = statistics.multimode(u)\n",
    "print(f'Вычисление моды с помощью statistics.multimode():{mode_3}')\n",
    "mode_4 = scipy.stats.mode(u)\n",
    "print(f'Вычисление моды с помощью scipy.stats.mode(): {mode_4}')"
   ]
  },
  {
   "cell_type": "markdown",
   "metadata": {},
   "source": [
    "10) Центральных метрик недостаточно для описания данных. Практически\n",
    "всегда необходимы метрики оценки вариативности данных, которые\n",
    "количественно определяют разброс точек данных. И первым показателем\n",
    "метрики оценки вариативности данных является дисперсия. Дисперсия\n",
    "количественно определяет разброс данных и численно показывает, как далеко\n",
    "расположены точки данных от среднего значения.\n",
    "Расчет дисперсии:"
   ]
  },
  {
   "cell_type": "code",
   "execution_count": 9,
   "metadata": {},
   "outputs": [
    {
     "name": "stdout",
     "output_type": "stream",
     "text": [
      "Оценка дисперсии на чистом Python: 99.29999999999998\n",
      "Оценка дисперсии с помощью statistics.variance():99.3\n",
      "Оценка дисперсии, используя NumPy с помощью np.var():99.29999999999998\n",
      "Оценка дисперсии, используя NumPy с помощью метода .var():99.29999999999998\n"
     ]
    }
   ],
   "source": [
    "n = len(x)\n",
    "mean = sum(x) / n\n",
    "var_ = sum((item - mean)**2 for item in x) / (n - 1)\n",
    "print(f'Оценка дисперсии на чистом Python: {var_}')\n",
    "var_1= statistics.variance(x)\n",
    "print(f'Оценка дисперсии с помощью statistics.variance():{var_1}')\n",
    "#statistics.variance(x_with_nan)\n",
    "#print(f'Оценка дисперсии с помощью statistics.variance(), где есть nan: {statistics.variance(x_with_nan)}')\n",
    "var_2 = np.var(y, ddof=1)\n",
    "print(f'Оценка дисперсии, используя NumPy с помощью np.var():{var_2}')\n",
    "var_3 = y.var(ddof=1)\n",
    "print(f'Оценка дисперсии, используя NumPy с помощью метода .var():{var_3}')\n"
   ]
  },
  {
   "cell_type": "markdown",
   "metadata": {},
   "source": [
    "11) Рассчитаем среднеквадратичное отклонение. Стандартное отклонение\n",
    "выборки является еще одним показателем разброса данных. Он связан с\n",
    "оценкой дисперсии, поскольку стандартное отклонение есть положительным\n",
    "квадратный корень из оценки дисперсии. Стандартное отклонение часто более\n",
    "удобно, чем дисперсия, потому что имеет ту же размерность, что и данные.\n",
    "Расчет среднеквадратичного отклонения:"
   ]
  },
  {
   "cell_type": "code",
   "execution_count": 10,
   "metadata": {},
   "outputs": [
    {
     "name": "stdout",
     "output_type": "stream",
     "text": [
      "Расчет среднеквадратичного отклонения на чистом Python:9.964938534682489\n",
      "Расчет среднеквадратичного отклонения с помощью statistics.stdev(): 9.964938534682489\n",
      "Расчет среднеквадратичного отклонения с помощью NumPy: 9.964938534682489\n"
     ]
    }
   ],
   "source": [
    "#Среднеквадратичное отклонение\n",
    "std_ = var_ ** 0.5\n",
    "print(f'Расчет среднеквадратичного отклонения на чистом Python:{std_}')\n",
    "std_2 = statistics.stdev(x)\n",
    "print(f'Расчет среднеквадратичного отклонения с помощью statistics.stdev(): {std_2}')\n",
    "np.std(y, ddof=1)\n",
    "print(f'Расчет среднеквадратичного отклонения с помощью NumPy: {np.std(y, ddof=1)}')"
   ]
  },
  {
   "cell_type": "markdown",
   "metadata": {},
   "source": [
    "12) Найдем смещение:"
   ]
  },
  {
   "cell_type": "code",
   "execution_count": 11,
   "metadata": {},
   "outputs": [
    {
     "name": "stdout",
     "output_type": "stream",
     "text": [
      "Расчет смещения на чистом Python: 1.9470432273905929\n",
      "Расчет смещения с помощью Pandas: 1.9470432273905924\n"
     ]
    }
   ],
   "source": [
    "#Смещение\n",
    "x = [8.0, 1, 2.5, 4, 28.0]\n",
    "n = len(x)\n",
    "mean_ = sum(x) / n\n",
    "var_ = sum((item - mean_)**2 for item in x) / (n - 1)\n",
    "std_ = var_ ** 0.5\n",
    "skew_ = (sum((item - mean_)**3 for item in x)\n",
    "* n / ((n - 1) * (n - 2) * std_**3))\n",
    "print(f'Расчет смещения на чистом Python: {skew_}')\n",
    "z, z_with_nan = pd.Series(x), pd.Series(x_with_nan)\n",
    "print(f'Расчет смещения с помощью Pandas: {z.skew()}')"
   ]
  },
  {
   "cell_type": "markdown",
   "metadata": {},
   "source": [
    "13) Процентиль – такой элемент в наборе данных, что p элементов в этом\n",
    "наборе данных меньше или равно его значению. Кроме того, (100 – p)\n",
    "элементов больше или равно этому значению. Если в наборе данных есть два\n",
    "таких элемента, то процентиль является их средним арифметическим.\n",
    "Расчитаем процентиль:"
   ]
  },
  {
   "cell_type": "code",
   "execution_count": 12,
   "metadata": {},
   "outputs": [
    {
     "name": "stdout",
     "output_type": "stream",
     "text": [
      "Расчет процентилей с помощью statistics.quantiles():[8.0]\n",
      "Расчет процентилей с помощью statistics.quantiles():[0.1, 8.0, 21.0]\n",
      "Нахождение 5 процентиля : -3.44\n",
      "Нахождение 95 процентиля : 34.919999999999995\n",
      "Нахождение процентиля используя метод .quantile():-3.44\n"
     ]
    }
   ],
   "source": [
    "#Процентили\n",
    "x = [-5.0, -1.1, 0.1, 2.0, 8.0, 12.8, 21.0, 25.8, 41.0]\n",
    "print(f'Расчет процентилей с помощью statistics.quantiles():{statistics.quantiles(x, n=2)}')\n",
    "statistics.quantiles(x, n=4, method='inclusive')\n",
    "print(f\"Расчет процентилей с помощью statistics.quantiles():{statistics.quantiles(x, n=4, method='inclusive')}\")\n",
    "y = np.array(x)\n",
    "np.percentile(y, 5)\n",
    "print(f'Нахождение 5 процентиля : {np.percentile(y, 5)}')\n",
    "np.percentile(y, 95)\n",
    "print(f'Нахождение 95 процентиля : {np.percentile(y, 95)}')\n",
    "z, z_with_nan = pd.Series(y), pd.Series(y_with_nan)\n",
    "z.quantile(0.05)\n",
    "print(f'Нахождение процентиля используя метод .quantile():{z.quantile(0.05)}')"
   ]
  },
  {
   "cell_type": "markdown",
   "metadata": {},
   "source": [
    "14) Диапазон данных – это разница между максимальным и\n",
    "минимальным элементом в наборе данных. Эти показатели найдем с\n",
    "использованием функции np.ptp():\n"
   ]
  },
  {
   "cell_type": "code",
   "execution_count": 13,
   "metadata": {},
   "outputs": [
    {
     "name": "stdout",
     "output_type": "stream",
     "text": [
      "Нахождение диапазона с помощью функции np.ptp():(46.0, 46.0, nan, nan)\n"
     ]
    }
   ],
   "source": [
    "#Диапазон\n",
    "np.ptp(y)\n",
    "np.ptp(z)\n",
    "np.ptp(y_with_nan)\n",
    "np.ptp(z_with_nan)\n",
    "print(f'Нахождение диапазона с помощью функции np.ptp():{np.ptp(y),np.ptp(z),np.ptp(y_with_nan),np.ptp(z_with_nan)}')"
   ]
  },
  {
   "cell_type": "markdown",
   "metadata": {},
   "source": [
    "15) сводка описательной статистики:"
   ]
  },
  {
   "cell_type": "code",
   "execution_count": 14,
   "metadata": {},
   "outputs": [
    {
     "name": "stdout",
     "output_type": "stream",
     "text": [
      "Сводка описательной статистики с помощью scipy.stats.describe(): DescribeResult(nobs=9, minmax=(-5.0, 41.0), mean=11.622222222222222, variance=228.75194444444446, skewness=0.9249043136685094, kurtosis=0.14770623629658886)\n",
      "Сводка описательной статистики с помощью метода.describe() в Pandas: count     9.000000\n",
      "mean     11.622222\n",
      "std      15.124548\n",
      "min      -5.000000\n",
      "25%       0.100000\n",
      "50%       8.000000\n",
      "75%      21.000000\n",
      "max      41.000000\n",
      "dtype: float64\n"
     ]
    }
   ],
   "source": [
    "#Сводка описательной статистики\n",
    "result = scipy.stats.describe(y, ddof=1, bias=False)\n",
    "print(f'Сводка описательной статистики с помощью scipy.stats.describe(): {result}')\n",
    "result2 = z.describe()\n",
    "print(f'Сводка описательной статистики с помощью метода.describe() в Pandas: {result2}')\n"
   ]
  }
 ],
 "metadata": {
  "kernelspec": {
   "display_name": "Python 3.10.4 64-bit",
   "language": "python",
   "name": "python3"
  },
  "language_info": {
   "codemirror_mode": {
    "name": "ipython",
    "version": 3
   },
   "file_extension": ".py",
   "mimetype": "text/x-python",
   "name": "python",
   "nbconvert_exporter": "python",
   "pygments_lexer": "ipython3",
   "version": "3.10.10"
  },
  "orig_nbformat": 4,
  "vscode": {
   "interpreter": {
    "hash": "5a36fc6bded80c7dba15ba6e493e0fae11d31fb080977968d3829f197de4bb46"
   }
  }
 },
 "nbformat": 4,
 "nbformat_minor": 2
}
