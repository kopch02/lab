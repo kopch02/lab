{
 "cells": [
  {
   "cell_type": "code",
   "execution_count": 2,
   "metadata": {},
   "outputs": [],
   "source": [
    "import pandas as pn\n",
    "file=\"lab3.txt\""
   ]
  },
  {
   "cell_type": "markdown",
   "metadata": {},
   "source": [
    "1. Загрузите данные из файла в объект DataFrame, Добавьте заголовки к\n",
    "столбцам: «index», «year», «month», «day», «min_t», «average_t», «max_t»,\n",
    "«rainfall».\n",
    "Расшифровка:\n",
    "• index – индекс ВМО,\n",
    "• year – год,\n",
    "• month – месяц,\n",
    "• day – день,\n",
    "• min_t – минимальная температура воздуха,\n",
    "• average_t – средняя температура воздуха,\n",
    "• max_t – максимальная температура воздуха,\n",
    "• rainfall – количество осадков"
   ]
  },
  {
   "cell_type": "code",
   "execution_count": 3,
   "metadata": {},
   "outputs": [
    {
     "name": "stdout",
     "output_type": "stream",
     "text": [
      "       index  year  month  day  min_t average_t  max_t rainfall\n",
      "0      29838  1960      1    1   -6.9      -5.4   -3.8      0.1\n",
      "1      29838  1960      1    2  -14.4     -10.0   -6.7      0.5\n",
      "2      29838  1960      1    3  -21.7     -19.7  -13.4      0.0\n",
      "3      29838  1960      1    4  -24.9     -21.4  -16.9      0.0\n",
      "4      29838  1960      1    5  -18.3      -8.0   -3.3      4.1\n",
      "...      ...   ...    ...  ...    ...       ...    ...      ...\n",
      "22276  29838  2020     12   27  -41.7     -36.3  -32.8      0.0\n",
      "22277  29838  2020     12   28  -40.1     -34.2  -25.5      0.0\n",
      "22278  29838  2020     12   29  -28.2     -23.9  -18.6      0.0\n",
      "22279  29838  2020     12   30  -21.8     -13.6   -9.9      0.8\n",
      "22280  29838  2020     12   31  -23.2     -19.0  -10.0      1.4\n",
      "\n",
      "[22281 rows x 8 columns]\n"
     ]
    }
   ],
   "source": [
    "df=pn.read_table(file,header = None,sep=\";\")\n",
    "df.columns=[\"index\",\"year\",\"month\",\"day\",\"min_t\",\"average_t\",\"max_t\",\"rainfall\"]\n",
    "print(df)"
   ]
  },
  {
   "cell_type": "markdown",
   "metadata": {},
   "source": [
    "2. Удалите столбец index"
   ]
  },
  {
   "cell_type": "code",
   "execution_count": 4,
   "metadata": {},
   "outputs": [
    {
     "name": "stdout",
     "output_type": "stream",
     "text": [
      "       year  month  day  min_t average_t  max_t rainfall\n",
      "0      1960      1    1   -6.9      -5.4   -3.8      0.1\n",
      "1      1960      1    2  -14.4     -10.0   -6.7      0.5\n",
      "2      1960      1    3  -21.7     -19.7  -13.4      0.0\n",
      "3      1960      1    4  -24.9     -21.4  -16.9      0.0\n",
      "4      1960      1    5  -18.3      -8.0   -3.3      4.1\n",
      "...     ...    ...  ...    ...       ...    ...      ...\n",
      "22276  2020     12   27  -41.7     -36.3  -32.8      0.0\n",
      "22277  2020     12   28  -40.1     -34.2  -25.5      0.0\n",
      "22278  2020     12   29  -28.2     -23.9  -18.6      0.0\n",
      "22279  2020     12   30  -21.8     -13.6   -9.9      0.8\n",
      "22280  2020     12   31  -23.2     -19.0  -10.0      1.4\n",
      "\n",
      "[22281 rows x 7 columns]\n"
     ]
    }
   ],
   "source": [
    "del df[\"index\"]\n",
    "print(df)"
   ]
  },
  {
   "cell_type": "markdown",
   "metadata": {},
   "source": [
    "3. Используя метод info(), oтветьте на вопросы:"
   ]
  },
  {
   "cell_type": "code",
   "execution_count": 5,
   "metadata": {},
   "outputs": [
    {
     "name": "stdout",
     "output_type": "stream",
     "text": [
      "<class 'pandas.core.frame.DataFrame'>\n",
      "RangeIndex: 22281 entries, 0 to 22280\n",
      "Data columns (total 7 columns):\n",
      " #   Column     Non-Null Count  Dtype  \n",
      "---  ------     --------------  -----  \n",
      " 0   year       22281 non-null  int64  \n",
      " 1   month      22281 non-null  int64  \n",
      " 2   day        22281 non-null  int64  \n",
      " 3   min_t      22255 non-null  float64\n",
      " 4   average_t  22255 non-null  float64\n",
      " 5   max_t      21717 non-null  float64\n",
      " 6   rainfall   22253 non-null  float64\n",
      "dtypes: float64(4), int64(3)\n",
      "memory usage: 1.2 MB\n",
      "None\n"
     ]
    }
   ],
   "source": [
    "t=[\"min_t\",\"average_t\",\"max_t\",\"rainfall\"]\n",
    "for i in t:\n",
    "    df[i]=df[i].str.replace(\" \",\"\")\n",
    "    df[i]=pn.to_numeric(df[i])\n",
    "print(df.info())"
   ]
  },
  {
   "cell_type": "markdown",
   "metadata": {},
   "source": [
    "3.1. Есть ли в данных пропущенные значения?"
   ]
  },
  {
   "cell_type": "code",
   "execution_count": 6,
   "metadata": {},
   "outputs": [
    {
     "name": "stdout",
     "output_type": "stream",
     "text": [
      "        year  month    day  min_t  average_t  max_t  rainfall\n",
      "0      False  False  False  False      False  False     False\n",
      "1      False  False  False  False      False  False     False\n",
      "2      False  False  False  False      False  False     False\n",
      "3      False  False  False  False      False  False     False\n",
      "4      False  False  False  False      False  False     False\n",
      "...      ...    ...    ...    ...        ...    ...       ...\n",
      "22276  False  False  False  False      False  False     False\n",
      "22277  False  False  False  False      False  False     False\n",
      "22278  False  False  False  False      False  False     False\n",
      "22279  False  False  False  False      False  False     False\n",
      "22280  False  False  False  False      False  False     False\n",
      "\n",
      "[22281 rows x 7 columns]\n"
     ]
    }
   ],
   "source": [
    "print(df.applymap(pn.isnull))"
   ]
  },
  {
   "cell_type": "markdown",
   "metadata": {},
   "source": [
    "3.2. В каком столбце данных больше всего пропущенных значений?"
   ]
  },
  {
   "cell_type": "code",
   "execution_count": 7,
   "metadata": {},
   "outputs": [
    {
     "name": "stdout",
     "output_type": "stream",
     "text": [
      "year           0\n",
      "month          0\n",
      "day            0\n",
      "min_t         26\n",
      "average_t     26\n",
      "max_t        564\n",
      "rainfall      28\n",
      "dtype: int64\n",
      "564\n"
     ]
    }
   ],
   "source": [
    "print(df.isnull().sum())\n",
    "print(df.isnull().sum().max())\n"
   ]
  },
  {
   "cell_type": "markdown",
   "metadata": {},
   "source": [
    "4. В данных за какой год больше всего пропусков? "
   ]
  },
  {
   "cell_type": "code",
   "execution_count": 8,
   "metadata": {},
   "outputs": [
    {
     "name": "stdout",
     "output_type": "stream",
     "text": [
      "1961 год ,334 пропусков\n"
     ]
    }
   ],
   "source": [
    "n={}\n",
    "for y in df['year'].unique():\n",
    "    n[y]=df[df['year']==y].isna().sum().sum()\n",
    "print(f'{max(n,key=n.get)} год ,{n[max(n,key=n.get)]} пропусков')"
   ]
  },
  {
   "cell_type": "markdown",
   "metadata": {},
   "source": [
    "5. Объедините столбцы «Год», «Месяц» и «День» в один столбец «Дата» в\n",
    "формате гггг-мм-дд (2000-01-20). Данные в новом столбце должны иметь\n",
    "формат datetime;"
   ]
  },
  {
   "cell_type": "code",
   "execution_count": 9,
   "metadata": {},
   "outputs": [
    {
     "name": "stdout",
     "output_type": "stream",
     "text": [
      "       year  month  day  min_t  average_t  max_t  rainfall       data\n",
      "0      1960      1    1   -6.9       -5.4   -3.8       0.1 1960-01-01\n",
      "1      1960      1    2  -14.4      -10.0   -6.7       0.5 1960-01-02\n",
      "2      1960      1    3  -21.7      -19.7  -13.4       0.0 1960-01-03\n",
      "3      1960      1    4  -24.9      -21.4  -16.9       0.0 1960-01-04\n",
      "4      1960      1    5  -18.3       -8.0   -3.3       4.1 1960-01-05\n",
      "...     ...    ...  ...    ...        ...    ...       ...        ...\n",
      "22276  2020     12   27  -41.7      -36.3  -32.8       0.0 2020-12-27\n",
      "22277  2020     12   28  -40.1      -34.2  -25.5       0.0 2020-12-28\n",
      "22278  2020     12   29  -28.2      -23.9  -18.6       0.0 2020-12-29\n",
      "22279  2020     12   30  -21.8      -13.6   -9.9       0.8 2020-12-30\n",
      "22280  2020     12   31  -23.2      -19.0  -10.0       1.4 2020-12-31\n",
      "\n",
      "[22281 rows x 8 columns]\n"
     ]
    }
   ],
   "source": [
    "df['data']=pn.to_datetime(df['day'].astype(str)+'-'+df['month'].astype(str)+'-'+df['year'].astype(str),format='%d-%m-%Y')\n",
    "\n",
    "print(df)"
   ]
  },
  {
   "cell_type": "markdown",
   "metadata": {},
   "source": [
    "6. Для каждого наблюдения рассчитайте размах температур (разность\n",
    "максимальной и минимальной суточных температур) и количество\n",
    "предшествующих ему дней без осадков (используйте циклы Python и\n",
    "условный оператор):\n",
    "\n",
    "![alt text](num6.jpg \"Title\")\n"
   ]
  },
  {
   "cell_type": "code",
   "execution_count": 25,
   "metadata": {},
   "outputs": [
    {
     "name": "stderr",
     "output_type": "stream",
     "text": [
      "C:\\Users\\iskan\\AppData\\Local\\Temp\\ipykernel_19700\\2505710210.py:6: SettingWithCopyWarning: \n",
      "A value is trying to be set on a copy of a slice from a DataFrame\n",
      "\n",
      "See the caveats in the documentation: https://pandas.pydata.org/pandas-docs/stable/user_guide/indexing.html#returning-a-view-versus-a-copy\n",
      "  df['no rain'][idx] = count\n"
     ]
    },
    {
     "name": "stdout",
     "output_type": "stream",
     "text": [
      "       year  month  day  min_t  average_t  max_t  rainfall       data  \\\n",
      "0      1960      1    1   -6.9       -5.4   -3.8       0.1 1960-01-01   \n",
      "1      1960      1    2  -14.4      -10.0   -6.7       0.5 1960-01-02   \n",
      "2      1960      1    3  -21.7      -19.7  -13.4       0.0 1960-01-03   \n",
      "3      1960      1    4  -24.9      -21.4  -16.9       0.0 1960-01-04   \n",
      "4      1960      1    5  -18.3       -8.0   -3.3       4.1 1960-01-05   \n",
      "...     ...    ...  ...    ...        ...    ...       ...        ...   \n",
      "22276  2020     12   27  -41.7      -36.3  -32.8       0.0 2020-12-27   \n",
      "22277  2020     12   28  -40.1      -34.2  -25.5       0.0 2020-12-28   \n",
      "22278  2020     12   29  -28.2      -23.9  -18.6       0.0 2020-12-29   \n",
      "22279  2020     12   30  -21.8      -13.6   -9.9       0.8 2020-12-30   \n",
      "22280  2020     12   31  -23.2      -19.0  -10.0       1.4 2020-12-31   \n",
      "\n",
      "       temp range  no rain  \n",
      "0             3.1      0.0  \n",
      "1             7.7      0.0  \n",
      "2             8.3      0.0  \n",
      "3             8.0      1.0  \n",
      "4            15.0      2.0  \n",
      "...           ...      ...  \n",
      "22276         8.9      1.0  \n",
      "22277        14.6      2.0  \n",
      "22278         9.6      3.0  \n",
      "22279        11.9      4.0  \n",
      "22280        13.2      0.0  \n",
      "\n",
      "[22281 rows x 10 columns]\n"
     ]
    }
   ],
   "source": [
    "df['temp range'] = abs(df['min_t'] - df['max_t'])\n",
    "count = 0\n",
    "maxcount = 0\n",
    "df['no rain'] = df['rainfall']\n",
    "for idx, d in enumerate(df['no rain']):\n",
    "    df['no rain'][idx] = count\n",
    "    if d == 0:\n",
    "        count += 1\n",
    "    else:\n",
    "        count = 0\n",
    "    if maxcount < count:\n",
    "        maxcount = count\n",
    "print(df)"
   ]
  },
  {
   "cell_type": "markdown",
   "metadata": {},
   "source": [
    "7. Определите самый длинный период засухи."
   ]
  },
  {
   "cell_type": "code",
   "execution_count": 14,
   "metadata": {},
   "outputs": [
    {
     "name": "stdout",
     "output_type": "stream",
     "text": [
      "27\n"
     ]
    }
   ],
   "source": [
    "print(maxcount)"
   ]
  },
  {
   "cell_type": "markdown",
   "metadata": {},
   "source": [
    "8. Для каждого года вычислите среднегодовую температуру и общее количество\n",
    "осадков. Запишите результаты в объекты Series."
   ]
  },
  {
   "cell_type": "code",
   "execution_count": 19,
   "metadata": {},
   "outputs": [
    {
     "name": "stdout",
     "output_type": "stream",
     "text": [
      "year\n",
      "1960   -0.113934\n",
      "1961    2.424384\n",
      "1962    3.326849\n",
      "1963    3.461264\n",
      "1964    2.291803\n",
      "          ...   \n",
      "2016    3.021858\n",
      "2017    3.512329\n",
      "2018    1.607397\n",
      "2019    3.413973\n",
      "2020    4.776503\n",
      "Name: average_t, Length: 61, dtype: float64 year\n",
      "1960    472.7\n",
      "1961    517.8\n",
      "1962    368.7\n",
      "1963    430.3\n",
      "1964    425.3\n",
      "        ...  \n",
      "2016    488.8\n",
      "2017    498.2\n",
      "2018    442.4\n",
      "2019    375.4\n",
      "2020    437.2\n",
      "Name: rainfall, Length: 61, dtype: float64\n"
     ]
    }
   ],
   "source": [
    "avg_temp = df.groupby(['year'])['average_t'].mean()\n",
    "cum_rain = df.groupby(['year'])['rainfall'].sum()\n",
    "print(avg_temp, cum_rain)"
   ]
  },
  {
   "cell_type": "markdown",
   "metadata": {},
   "source": [
    "8.1. Какой год можно считать самым теплым? Какой самым холодным?\n"
   ]
  },
  {
   "cell_type": "code",
   "execution_count": 16,
   "metadata": {},
   "outputs": [
    {
     "name": "stdout",
     "output_type": "stream",
     "text": [
      "самый теплый год: 2020\n",
      "самый холодный год: 1969\n"
     ]
    }
   ],
   "source": [
    "print(f\"самый теплый год: {avg_temp.idxmax()}\")\n",
    "print(f\"самый холодный год: {avg_temp.idxmin()}\")"
   ]
  },
  {
   "cell_type": "markdown",
   "metadata": {},
   "source": [
    "8.2. В какой год выпало больше всего осадков? В какой меньше всего?"
   ]
  },
  {
   "cell_type": "code",
   "execution_count": 18,
   "metadata": {},
   "outputs": [
    {
     "name": "stdout",
     "output_type": "stream",
     "text": [
      "наибольшее кол-во осадков: 1970\n",
      "наименьшее кол-во осадков: 1973\n"
     ]
    }
   ],
   "source": [
    "print(f\"наибольшее кол-во осадков: {cum_rain.idxmax()}\")\n",
    "print(f\"наименьшее кол-во осадков: {cum_rain.idxmin()}\")"
   ]
  },
  {
   "cell_type": "markdown",
   "metadata": {},
   "source": [
    "9. Выведете наблюдения, удовлетворяющие условиям:\n",
    "    1. Средняя температура воздуха ниже -30С (для некоторых регионов\n",
    "можно использовать -10С, -35С, -40С).\n",
    "    2. Средняя температура воздуха выше 27С и количество дней без осадков больше 3."
   ]
  },
  {
   "cell_type": "code",
   "execution_count": 21,
   "metadata": {},
   "outputs": [
    {
     "name": "stdout",
     "output_type": "stream",
     "text": [
      "       year  month  day  min_t  average_t  max_t  rainfall       data\n",
      "17     1960      1   18  -31.4      -31.2  -27.2       0.0 1960-01-18\n",
      "18     1960      1   19  -35.8      -33.2  -29.7       0.0 1960-01-19\n",
      "323    1960     11   19  -31.3      -30.1    NaN       0.8 1960-11-19\n",
      "361    1960     12   27  -34.2      -30.2    NaN       0.0 1960-12-27\n",
      "373    1961      1    8  -36.2      -34.5    NaN       0.0 1961-01-08\n",
      "...     ...    ...  ...    ...        ...    ...       ...        ...\n",
      "21585  2019      2    5  -38.0      -32.0  -24.3       0.0 2019-02-05\n",
      "21588  2019      2    8  -38.3      -32.8  -24.8       0.0 2019-02-08\n",
      "22275  2020     12   26  -35.5      -31.6  -23.4       0.0 2020-12-26\n",
      "22276  2020     12   27  -41.7      -36.3  -32.8       0.0 2020-12-27\n",
      "22277  2020     12   28  -40.1      -34.2  -25.5       0.0 2020-12-28\n",
      "\n",
      "[241 rows x 8 columns]\n",
      "       year  month  day  min_t  average_t  max_t  rainfall       data\n",
      "1270   1963      6   24   19.4       27.4   33.4       0.0 1963-06-24\n",
      "2029   1965      7   22   19.8       27.3   35.0       0.0 1965-07-22\n",
      "3471   1969      7    3   21.4       27.1   33.2       0.0 1969-07-03\n",
      "3472   1969      7    4   22.1       28.9   35.5       0.0 1969-07-04\n",
      "3473   1969      7    5   23.2       27.9   34.2       0.0 1969-07-05\n",
      "5305   1974      7   11   16.9       27.8   37.9       0.0 1974-07-11\n",
      "6381   1977      6   21   19.5       27.2   32.9       0.0 1977-06-21\n",
      "8601   1983      7   20   20.4       27.2   33.7       0.0 1983-07-20\n",
      "10395  1988      6   17   19.4       28.3   36.6       0.0 1988-06-17\n",
      "11884  1992      7   15   17.9       28.0   37.1       0.0 1992-07-15\n",
      "15563  2002      8   11   21.7       28.5   38.3       0.0 2002-08-11\n"
     ]
    }
   ],
   "source": [
    "print(df[df['average_t'] < -30])\n",
    "print(df[(df['average_t'] > 27) & (df[\"no rain\"] > 3)])"
   ]
  }
 ],
 "metadata": {
  "kernelspec": {
   "display_name": "Python 3.10.4 64-bit",
   "language": "python",
   "name": "python3"
  },
  "language_info": {
   "codemirror_mode": {
    "name": "ipython",
    "version": 3
   },
   "file_extension": ".py",
   "mimetype": "text/x-python",
   "name": "python",
   "nbconvert_exporter": "python",
   "pygments_lexer": "ipython3",
   "version": "3.10.4"
  },
  "orig_nbformat": 4,
  "vscode": {
   "interpreter": {
    "hash": "5a36fc6bded80c7dba15ba6e493e0fae11d31fb080977968d3829f197de4bb46"
   }
  }
 },
 "nbformat": 4,
 "nbformat_minor": 2
}
